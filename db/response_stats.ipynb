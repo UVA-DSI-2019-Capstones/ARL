{
 "cells": [
  {
   "cell_type": "markdown",
   "metadata": {},
   "source": [
    "### Calculating Response Stats for Prompt Types"
   ]
  },
  {
   "cell_type": "code",
   "execution_count": 1,
   "metadata": {},
   "outputs": [],
   "source": [
    "import pandas as pd\n",
    "import numpy as np\n",
    "import sqlite3\n",
    "import re\n",
    "import string"
   ]
  },
  {
   "cell_type": "code",
   "execution_count": 2,
   "metadata": {},
   "outputs": [],
   "source": [
    "def create_connection(db_file):\n",
    "        try:\n",
    "            conn = sqlite3.connect(db_file)\n",
    "            return(conn)\n",
    "        except Error as e:\n",
    "            print(e)"
   ]
  },
  {
   "cell_type": "code",
   "execution_count": 3,
   "metadata": {},
   "outputs": [],
   "source": [
    "db = create_connection(\"database.db\")"
   ]
  },
  {
   "cell_type": "code",
   "execution_count": 4,
   "metadata": {},
   "outputs": [
    {
     "data": {
      "text/html": [
       "<div>\n",
       "<style scoped>\n",
       "    .dataframe tbody tr th:only-of-type {\n",
       "        vertical-align: middle;\n",
       "    }\n",
       "\n",
       "    .dataframe tbody tr th {\n",
       "        vertical-align: top;\n",
       "    }\n",
       "\n",
       "    .dataframe thead th {\n",
       "        text-align: right;\n",
       "    }\n",
       "</style>\n",
       "<table border=\"1\" class=\"dataframe\">\n",
       "  <thead>\n",
       "    <tr style=\"text-align: right;\">\n",
       "      <th></th>\n",
       "      <th>id</th>\n",
       "      <th>turk_response_text</th>\n",
       "      <th>prompt_type</th>\n",
       "      <th>assignment</th>\n",
       "      <th>identifier</th>\n",
       "      <th>comment</th>\n",
       "      <th>section</th>\n",
       "      <th>response_length</th>\n",
       "    </tr>\n",
       "  </thead>\n",
       "  <tbody>\n",
       "    <tr>\n",
       "      <th>172</th>\n",
       "      <td>173</td>\n",
       "      <td>We'll give it a try, but it may be difficult.</td>\n",
       "      <td>rewrite</td>\n",
       "      <td>3QBD8R3Z21JBSZEUUC51EAQO8MB4OLa</td>\n",
       "      <td>15a</td>\n",
       "      <td></td>\n",
       "      <td>15</td>\n",
       "      <td>10</td>\n",
       "    </tr>\n",
       "    <tr>\n",
       "      <th>173</th>\n",
       "      <td>174</td>\n",
       "      <td>That can't happen. We need the supplies at the...</td>\n",
       "      <td>rewrite</td>\n",
       "      <td>3QBD8R3Z21JBSZEUUC51EAQO8MB4OLb</td>\n",
       "      <td>15b</td>\n",
       "      <td></td>\n",
       "      <td>15</td>\n",
       "      <td>16</td>\n",
       "    </tr>\n",
       "    <tr>\n",
       "      <th>174</th>\n",
       "      <td>175</td>\n",
       "      <td>Stop - we need to take these to the station.</td>\n",
       "      <td>rewrite</td>\n",
       "      <td>3QBD8R3Z21JBSZEUUC51EAQO8MB4OLc</td>\n",
       "      <td>15c</td>\n",
       "      <td></td>\n",
       "      <td>15</td>\n",
       "      <td>10</td>\n",
       "    </tr>\n",
       "    <tr>\n",
       "      <th>175</th>\n",
       "      <td>176</td>\n",
       "      <td>I don't think that will work, despite your int...</td>\n",
       "      <td>rewrite</td>\n",
       "      <td>3QBD8R3Z21JBSZEUUC51EAQO8MB4OLd</td>\n",
       "      <td>15d</td>\n",
       "      <td></td>\n",
       "      <td>15</td>\n",
       "      <td>11</td>\n",
       "    </tr>\n",
       "    <tr>\n",
       "      <th>176</th>\n",
       "      <td>177</td>\n",
       "      <td>This complicates things, but we can figure it ...</td>\n",
       "      <td>rewrite</td>\n",
       "      <td>3YDTZAI2WXGQW77TOA7Q2EDGFB114Va</td>\n",
       "      <td>15a</td>\n",
       "      <td></td>\n",
       "      <td>15</td>\n",
       "      <td>9</td>\n",
       "    </tr>\n",
       "  </tbody>\n",
       "</table>\n",
       "</div>"
      ],
      "text/plain": [
       "      id                                 turk_response_text prompt_type  \\\n",
       "172  173      We'll give it a try, but it may be difficult.     rewrite   \n",
       "173  174  That can't happen. We need the supplies at the...     rewrite   \n",
       "174  175       Stop - we need to take these to the station.     rewrite   \n",
       "175  176  I don't think that will work, despite your int...     rewrite   \n",
       "176  177  This complicates things, but we can figure it ...     rewrite   \n",
       "\n",
       "                          assignment identifier comment  section  \\\n",
       "172  3QBD8R3Z21JBSZEUUC51EAQO8MB4OLa        15a               15   \n",
       "173  3QBD8R3Z21JBSZEUUC51EAQO8MB4OLb        15b               15   \n",
       "174  3QBD8R3Z21JBSZEUUC51EAQO8MB4OLc        15c               15   \n",
       "175  3QBD8R3Z21JBSZEUUC51EAQO8MB4OLd        15d               15   \n",
       "176  3YDTZAI2WXGQW77TOA7Q2EDGFB114Va        15a               15   \n",
       "\n",
       "     response_length  \n",
       "172               10  \n",
       "173               16  \n",
       "174               10  \n",
       "175               11  \n",
       "176                9  "
      ]
     },
     "execution_count": 4,
     "metadata": {},
     "output_type": "execute_result"
    }
   ],
   "source": [
    "responses = pd.read_sql(\"SELECT * FROM turk_response\", db)\n",
    "responses['section'] = [int(re.findall('\\d+', x)[0]) for x in responses.identifier]\n",
    "responses['response_length'] = [len(x.split()) for x in responses.turk_response_text]\n",
    "responses = responses[responses.section <= 16]\n",
    "responses.head()"
   ]
  },
  {
   "cell_type": "code",
   "execution_count": 5,
   "metadata": {},
   "outputs": [],
   "source": [
    "rewrite = responses[responses.prompt_type == 'rewrite']\n",
    "feedback = responses[responses.prompt_type == 'feedback']\n",
    "context = responses[responses.prompt_type == 'context']"
   ]
  },
  {
   "cell_type": "code",
   "execution_count": 14,
   "metadata": {},
   "outputs": [],
   "source": [
    "def get_lexical_diversity_stats(dataset):\n",
    "    responses = dataset.turk_response_text\n",
    "    \n",
    "    all_words = \" \".join(responses)\n",
    "    lowercase_without_punc = all_words.translate(str.maketrans('', '', string.punctuation)).lower().split()\n",
    "    print(\"Number of Samples: \" + str(len(responses)))\n",
    "    print(\"Unique Words: \" + str(len(set(lowercase_without_punc))))\n",
    "    print(\"Average Response Length: \" + str(round(np.mean(dataset.response_length),1)))   "
   ]
  },
  {
   "cell_type": "code",
   "execution_count": 15,
   "metadata": {},
   "outputs": [
    {
     "name": "stdout",
     "output_type": "stream",
     "text": [
      "Number of Samples: 1975\n",
      "Unique Words: 1648\n",
      "Average Response Length: 18.1\n"
     ]
    }
   ],
   "source": [
    "get_lexical_diversity_stats(rewrite)"
   ]
  },
  {
   "cell_type": "code",
   "execution_count": 16,
   "metadata": {},
   "outputs": [
    {
     "name": "stdout",
     "output_type": "stream",
     "text": [
      "Number of Samples: 2329\n",
      "Unique Words: 2089\n",
      "Average Response Length: 20.3\n"
     ]
    }
   ],
   "source": [
    "get_lexical_diversity_stats(feedback)"
   ]
  },
  {
   "cell_type": "code",
   "execution_count": 17,
   "metadata": {},
   "outputs": [
    {
     "name": "stdout",
     "output_type": "stream",
     "text": [
      "Number of Samples: 548\n",
      "Unique Words: 1306\n",
      "Average Response Length: 25.6\n"
     ]
    }
   ],
   "source": [
    "get_lexical_diversity_stats(context)"
   ]
  },
  {
   "cell_type": "code",
   "execution_count": 18,
   "metadata": {},
   "outputs": [
    {
     "name": "stdout",
     "output_type": "stream",
     "text": [
      "Number of Samples: 4852\n",
      "Unique Words: 2885\n",
      "Average Response Length: 20.0\n"
     ]
    }
   ],
   "source": [
    "get_lexical_diversity_stats(responses)"
   ]
  }
 ],
 "metadata": {
  "kernelspec": {
   "display_name": "Python 3",
   "language": "python",
   "name": "python3"
  },
  "language_info": {
   "codemirror_mode": {
    "name": "ipython",
    "version": 3
   },
   "file_extension": ".py",
   "mimetype": "text/x-python",
   "name": "python",
   "nbconvert_exporter": "python",
   "pygments_lexer": "ipython3",
   "version": "3.6.8"
  }
 },
 "nbformat": 4,
 "nbformat_minor": 2
}
