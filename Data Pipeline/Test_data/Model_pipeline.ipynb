{
 "cells": [
  {
   "cell_type": "code",
   "execution_count": 117,
   "metadata": {},
   "outputs": [],
   "source": [
    "from sklearn.naive_bayes import MultinomialNB\n",
    "from sklearn.neural_network import MLPClassifier\n",
    "from sklearn import tree\n",
    "from sklearn.ensemble import RandomForestClassifier\n",
    "from sklearn.metrics import classification_report\n",
    "import os\n",
    "import numpy as np\n",
    "import pandas as pd\n",
    "from scipy.sparse import csr_matrix"
   ]
  },
  {
   "cell_type": "code",
   "execution_count": 65,
   "metadata": {},
   "outputs": [],
   "source": [
    "def create_path(*args):\n",
    "    cur_path = os.getcwd()\n",
    "    for value in args:\n",
    "        cur_path  = os.path.join(cur_path, value)\n",
    "    return cur_path"
   ]
  },
  {
   "cell_type": "code",
   "execution_count": 128,
   "metadata": {},
   "outputs": [],
   "source": [
    "class modeling():\n",
    "\n",
    "    def __init__(self, quest_num, mat_type, dim = 100):\n",
    "        self.Y_test = np.load(create_path('labels', '{}_labels_question{}.npy'.format('test', quest_num)))\n",
    "        self.Y_train = np.load(create_path('labels', '{}_labels_question{}.npy'.format('train', quest_num)))\n",
    "        if mat_type == 'tfidf':\n",
    "            print('ok')\n",
    "            self.X_test = np.load(create_path('tfidf_matrices', 'TFIDF_{}_Question{}_{}dim.npy'.format('test', quest_num, dim)))\n",
    "            self.X_train = np.load(create_path('tfidf_matrices', 'TFIDF_{}_Question{}_{}dim.npy'.format('train', quest_num, dim)))\n",
    "        elif mat_type == 'w2v':\n",
    "            self.X_test = np.load(create_path('w2v_matrices', 'Question{}{}_{}dimensions.npy'.format(quest_num, 'test', dim)))\n",
    "            self.X_train = np.load(create_path('w2v_matrices', 'Question{}{}_{}dimensions.npy'.format(quest_num, 'train', dim)))\n",
    "            \n",
    "    def multinomialnb(self):\n",
    "        print(\"NaiveBayes\", end = ' ')\n",
    "        clf = MultinomialNB().fit(self.X_train, self.Y_train)\n",
    "        predicted = clf.predict(self.X_test)\n",
    "        print(classification_report(self.Y_test, predicted))\n",
    "        \n",
    "    def mlpc(self, hls = 50, max_it = 500):\n",
    "        print(\"MLP\", end = ' ')\n",
    "        mlp = MLPClassifier(hidden_layer_sizes=hls,max_iter=max_it)\n",
    "        #Y_train1 = np.asarray(Y_train, dtype=np.float64).tolist()\n",
    "        mlp.fit(self.X_train, self.Y_train)\n",
    "        predicted = mlp.predict(self.X_test)\n",
    "        print(classification_report(self.Y_test, predicted))\n",
    "\n",
    "    def decisiontrees(self, max_depth = 5):\n",
    "        print(\"tree\", end = ' ')\n",
    "        clf = tree.DecisionTreeClassifier(max_depth)\n",
    "        clf.fit(self.X_train, self.Y_train)\n",
    "        predicted = clf.predict(self.X_test)\n",
    "        print(classification_report(self.Y_test, predicted))\n",
    "    \n",
    "    def randomforest(self, n_est = 100, max_d = 100):\n",
    "        print(\"RandomForest\", end = ' ')\n",
    "        clf = RandomForestClassifier(n_estimators=n_est, max_depth=max_d, random_state=13)\n",
    "        clf.fit(self.X_train,self.Y_train)\n",
    "        predicted = clf.predict(self.X_test)\n",
    "        print(classification_report(self.Y_test, predicted))"
   ]
  },
  {
   "cell_type": "code",
   "execution_count": 129,
   "metadata": {},
   "outputs": [
    {
     "name": "stdout",
     "output_type": "stream",
     "text": [
      "ok\n"
     ]
    }
   ],
   "source": [
    "data = modeling(1, 'tfidf', dim = 100)"
   ]
  },
  {
   "cell_type": "code",
   "execution_count": 132,
   "metadata": {},
   "outputs": [
    {
     "name": "stdout",
     "output_type": "stream",
     "text": [
      "RandomForest               precision    recall  f1-score   support\n",
      "\n",
      "         000       0.25      0.20      0.22         5\n",
      "         001       0.00      0.00      0.00         2\n",
      "         010       0.33      0.14      0.20         7\n",
      "         011       1.00      0.10      0.18        10\n",
      "         100       0.80      0.86      0.83        42\n",
      "         101       0.62      0.62      0.62         8\n",
      "         110       0.88      0.76      0.82        84\n",
      "         111       0.66      0.96      0.78        46\n",
      "\n",
      "   micro avg       0.75      0.75      0.75       204\n",
      "   macro avg       0.57      0.46      0.46       204\n",
      "weighted avg       0.76      0.75      0.73       204\n",
      "\n"
     ]
    }
   ],
   "source": [
    "data.randomforest()"
   ]
  }
 ],
 "metadata": {
  "kernelspec": {
   "display_name": "Tensorflow-gpu",
   "language": "python",
   "name": "tensorflow"
  },
  "language_info": {
   "codemirror_mode": {
    "name": "ipython",
    "version": 3
   },
   "file_extension": ".py",
   "mimetype": "text/x-python",
   "name": "python",
   "nbconvert_exporter": "python",
   "pygments_lexer": "ipython3",
   "version": "3.6.8"
  }
 },
 "nbformat": 4,
 "nbformat_minor": 2
}
