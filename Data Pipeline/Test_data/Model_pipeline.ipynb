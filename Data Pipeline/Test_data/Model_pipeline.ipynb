{
 "cells": [
  {
   "cell_type": "code",
   "execution_count": 1,
   "metadata": {},
   "outputs": [
    {
     "ename": "NameError",
     "evalue": "name 'X' is not defined",
     "output_type": "error",
     "traceback": [
      "\u001b[1;31m---------------------------------------------------------------------------\u001b[0m",
      "\u001b[1;31mNameError\u001b[0m                                 Traceback (most recent call last)",
      "\u001b[1;32m<ipython-input-1-f3c030d373ec>\u001b[0m in \u001b[0;36m<module>\u001b[1;34m\u001b[0m\n\u001b[0;32m      4\u001b[0m \u001b[1;32mfrom\u001b[0m \u001b[0msklearn\u001b[0m\u001b[1;33m.\u001b[0m\u001b[0mensemble\u001b[0m \u001b[1;32mimport\u001b[0m \u001b[0mRandomForestClassifier\u001b[0m\u001b[1;33m\u001b[0m\u001b[1;33m\u001b[0m\u001b[0m\n\u001b[0;32m      5\u001b[0m \u001b[1;33m\u001b[0m\u001b[0m\n\u001b[1;32m----> 6\u001b[1;33m \u001b[1;32mclass\u001b[0m \u001b[0mmodeling_template\u001b[0m\u001b[1;33m(\u001b[0m\u001b[0mX\u001b[0m\u001b[1;33m,\u001b[0m \u001b[0mY\u001b[0m\u001b[1;33m)\u001b[0m\u001b[1;33m:\u001b[0m\u001b[1;33m\u001b[0m\u001b[1;33m\u001b[0m\u001b[0m\n\u001b[0m\u001b[0;32m      7\u001b[0m \u001b[1;33m\u001b[0m\u001b[0m\n\u001b[0;32m      8\u001b[0m     \u001b[1;32mdef\u001b[0m \u001b[0m__init__\u001b[0m\u001b[1;33m(\u001b[0m\u001b[0mself\u001b[0m\u001b[1;33m)\u001b[0m\u001b[1;33m:\u001b[0m\u001b[1;33m\u001b[0m\u001b[1;33m\u001b[0m\u001b[0m\n",
      "\u001b[1;31mNameError\u001b[0m: name 'X' is not defined"
     ]
    }
   ],
   "source": [
    "from sklearn.naive_bayes import MultinomialNB\n",
    "from sklearn.neural_network import MLPClassifier\n",
    "from sklearn import tree\n",
    "from sklearn.ensemble import RandomForestClassifier\n",
    "\n",
    "class modeling_template():\n",
    "    \n",
    "    def __init__(self):\n",
    "        pass\n",
    "        \n",
    "        \n",
    "    def multinomialnb(self):\n",
    "        print(\"NaiveBayes\", end = ' ')\n",
    "        clf = MultinomialNB().fit(X_train, Y_train)\n",
    "        predicted = clf.predict(X_test)\n",
    "        print(classification_report(Y_test, predicted, average='weighted'))\n",
    "        \n",
    "    def mlpc(self, hls = 50, max_it = 500):\n",
    "        print(\"MLP\", end = ' ')\n",
    "        mlp = MLPClassifier(hidden_layer_sizes=hls,max_iter=max_it)\n",
    "        #Y_train1 = np.asarray(Y_train, dtype=np.float64).tolist()\n",
    "        mlp.fit(X_train,Y_train)\n",
    "        predicted = mlp.predict(X_test)\n",
    "        print(classification_report(Y_test, predicted, average='weighted'))\n",
    "\n",
    "    def decisiontrees(self, max_depth = 5):\n",
    "        print(\"tree\", end = ' ')\n",
    "        clf = tree.DecisionTreeClassifier(max_depth)\n",
    "        clf.fit(X_train,Y_train)\n",
    "        predicted = clf.predict(X_test)\n",
    "        print(classification_report(Y_test, predicted, average='weighted'))\n",
    "    \n",
    "    def randomforest(self, n_est = 100, max_d = 100):\n",
    "        print(\"RandomForest\", end = ' ')\n",
    "        clf = RandomForestClassifier(n_estimators=n_est, max_depth=max_d, random_state=13)\n",
    "        clf.fit(tfidf_matrix,Y_train_str)\n",
    "        predicted = clf.predict(tfidf_matrix_Test)\n",
    "        print(classification_report(Y_test_str, predicted, average='weighted'))"
   ]
  },
  {
   "cell_type": "code",
   "execution_count": null,
   "metadata": {},
   "outputs": [],
   "source": []
  }
 ],
 "metadata": {
  "kernelspec": {
   "display_name": "Tensorflow-gpu",
   "language": "python",
   "name": "tensorflow"
  },
  "language_info": {
   "codemirror_mode": {
    "name": "ipython",
    "version": 3
   },
   "file_extension": ".py",
   "mimetype": "text/x-python",
   "name": "python",
   "nbconvert_exporter": "python",
   "pygments_lexer": "ipython3",
   "version": "3.6.8"
  }
 },
 "nbformat": 4,
 "nbformat_minor": 2
}
