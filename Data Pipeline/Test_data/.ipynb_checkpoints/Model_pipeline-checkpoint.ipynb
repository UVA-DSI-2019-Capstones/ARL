{
 "cells": [
  {
   "cell_type": "code",
   "execution_count": null,
   "metadata": {},
   "outputs": [],
   "source": [
    "from sklearn.naive_bayes import MultinomialNB\n",
    "from sklearn.neural_network import MLPClassifier\n",
    "from sklearn import tree\n",
    "from sklearn.ensemble import RandomForestClassifier\n",
    "\n",
    "class modeling_template(X, Y):\n",
    "    \n",
    "    def __init__(self):\n",
    "        \n",
    "        \n",
    "    def multinomialnb(self):\n",
    "        print(\"NaiveBayes\", end = ' ')\n",
    "        clf = MultinomialNB().fit(X_train, Y_train)\n",
    "        predicted = clf.predict(X_test)\n",
    "        print(classification_report(Y_test, predicted, average='weighted'))\n",
    "        \n",
    "    def mlpc(self, hls = 50, max_it = 500):\n",
    "        print(\"MLP\", end = ' ')\n",
    "        mlp = MLPClassifier(hidden_layer_sizes=hls,max_iter=max_it)\n",
    "        #Y_train1 = np.asarray(Y_train, dtype=np.float64).tolist()\n",
    "        mlp.fit(X_train,Y_train)\n",
    "        predicted = mlp.predict(X_test)\n",
    "        print(classification_report(Y_test, predicted, average='weighted'))\n",
    "\n",
    "    def decisiontrees(self, max_depth = 5):\n",
    "        print(\"tree\", end = ' ')\n",
    "        clf = tree.DecisionTreeClassifier(max_depth)\n",
    "        clf.fit(X_train,Y_train)\n",
    "        predicted = clf.predict(X_test)\n",
    "        print(classification_report(Y_test, predicted, average='weighted'))\n",
    "    \n",
    "    def randomforest(self, n_est = 100, max_d = 100):\n",
    "        print(\"RandomForest\", end = ' ')\n",
    "        clf = RandomForestClassifier(n_estimators=n_est, max_depth=max_d, random_state=13)\n",
    "        clf.fit(tfidf_matrix,Y_train_str)\n",
    "        predicted = clf.predict(tfidf_matrix_Test)\n",
    "        print(classification_report(Y_test_str, predicted, average='weighted'))"
   ]
  }
 ],
 "metadata": {
  "kernelspec": {
   "display_name": "Tensorflow-gpu",
   "language": "python",
   "name": "tensorflow"
  },
  "language_info": {
   "codemirror_mode": {
    "name": "ipython",
    "version": 3
   },
   "file_extension": ".py",
   "mimetype": "text/x-python",
   "name": "python",
   "nbconvert_exporter": "python",
   "pygments_lexer": "ipython3",
   "version": "3.6.8"
  }
 },
 "nbformat": 4,
 "nbformat_minor": 2
}
