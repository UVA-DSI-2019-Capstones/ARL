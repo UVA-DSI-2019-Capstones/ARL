{
 "cells": [
  {
   "cell_type": "code",
   "execution_count": 1,
   "metadata": {},
   "outputs": [
    {
     "name": "stderr",
     "output_type": "stream",
     "text": [
      "Using TensorFlow backend.\n"
     ]
    }
   ],
   "source": [
    "# Create a classification model\n",
    "import keras\n",
    "from keras.models import Sequential\n",
    "from keras.preprocessing.sequence import pad_sequences\n",
    "from keras.layers import Dense, Dropout, Activation\n",
    "from keras.layers import Embedding\n",
    "from keras.layers import LSTM\n",
    "import numpy as np\n",
    "import keras.utils as ku\n",
    "from sklearn.model_selection import train_test_split\n",
    "import pandas as pd\n",
    "from keras.preprocessing.text import Tokenizer"
   ]
  },
  {
   "cell_type": "code",
   "execution_count": 2,
   "metadata": {},
   "outputs": [],
   "source": [
    "def dataset_prep_clf():\n",
    "    ''' Read data from a csv file and use keras preprocessing to create \n",
    "    data matrix with sequence of integers for each sentence padded with \n",
    "    zeros'''\n",
    "    tokenizer = Tokenizer()\n",
    "    # Read data from csv file\n",
    "    df = pd.read_csv(\"C:/Users/SODIQ-PC/Desktop/Capstone_1819/turk_data.csv\",sep=',')\n",
    "\n",
    "    # Extract the response column from data\n",
    "    data = df['turk_response_text']\n",
    "    label = np.array(df[['1','2','3']])\n",
    "    # Make output to one-hot vector matrix\n",
    "    y1 = ku.to_categorical(np.reshape(label[:,0], (len(label),1)), num_classes=6)\n",
    "    y1 = y1[:, 1:]\n",
    "    y2 = ku.to_categorical(np.reshape(label[:,1], (len(label),1)), num_classes=6)\n",
    "    y2 = y2[:, 1:]\n",
    "    y3 = ku.to_categorical(np.reshape(label[:,2], (len(label),1)), num_classes=6)\n",
    "    y3 = y3[:, 1:]\n",
    "    \n",
    "    # convert each sentence to a string and make all data into a list\n",
    "    corpus = [str(data[i]).lower() for i in range(len(data))]\n",
    "    \n",
    "    #tokenize the corpus removing punctuations and get unique vocabulary of of corpus\n",
    "    tokenizer.fit_on_texts(corpus)\n",
    "    \n",
    "    #get the number of unique words in the corpus\n",
    "    total_words = len(tokenizer.word_index) + 1\n",
    "    \n",
    "    input_sequences = []\n",
    "    for line in corpus:\n",
    "        #translate each line of text into a sequence of integers\n",
    "        token_list = tokenizer.texts_to_sequences([line])[0]\n",
    "        input_sequences.append(token_list)\n",
    "        \n",
    "    max_sequence_len = max([len(x) for x in input_sequences])\n",
    "    input_sequences = np.array(pad_sequences(input_sequences,   \n",
    "                          maxlen=max_sequence_len, padding='post'))\n",
    "    \n",
    "    # split data into train and test set\n",
    "    X_train, X_test, y_train, y_test = train_test_split(input_sequences, y1, test_size=0.3, random_state=10)\n",
    "    \n",
    "    return X_train, y_train, X_test, y_test"
   ]
  },
  {
   "cell_type": "code",
   "execution_count": 3,
   "metadata": {},
   "outputs": [],
   "source": [
    "def baseline_clf_model(X_train):\n",
    "    ''' Create a baseline classification model '''\n",
    "    model = Sequential()\n",
    "    model.add(Dense(64, activation='relu', input_dim=X_train.shape[1]))\n",
    "    model.add(Dropout(0.5))\n",
    "    model.add(Dense(64, activation='relu'))\n",
    "    model.add(Dropout(0.5))\n",
    "    model.add(Dense(5, activation='softmax'))\n",
    "    \n",
    "    model.compile(loss='categorical_crossentropy',optimizer='rmsprop',metrics=['accuracy'])\n",
    "    model_clf = model\n",
    "    return model_clf"
   ]
  },
  {
   "cell_type": "code",
   "execution_count": 4,
   "metadata": {},
   "outputs": [],
   "source": [
    "X_train, y_train, X_test, y_test = dataset_prep_clf()"
   ]
  },
  {
   "cell_type": "code",
   "execution_count": 5,
   "metadata": {},
   "outputs": [],
   "source": [
    "model = baseline_clf_model(X_train)"
   ]
  },
  {
   "cell_type": "code",
   "execution_count": 6,
   "metadata": {},
   "outputs": [
    {
     "name": "stdout",
     "output_type": "stream",
     "text": [
      "_________________________________________________________________\n",
      "Layer (type)                 Output Shape              Param #   \n",
      "=================================================================\n",
      "dense_1 (Dense)              (None, 64)                4160      \n",
      "_________________________________________________________________\n",
      "dropout_1 (Dropout)          (None, 64)                0         \n",
      "_________________________________________________________________\n",
      "dense_2 (Dense)              (None, 64)                4160      \n",
      "_________________________________________________________________\n",
      "dropout_2 (Dropout)          (None, 64)                0         \n",
      "_________________________________________________________________\n",
      "dense_3 (Dense)              (None, 5)                 325       \n",
      "=================================================================\n",
      "Total params: 8,645\n",
      "Trainable params: 8,645\n",
      "Non-trainable params: 0\n",
      "_________________________________________________________________\n"
     ]
    }
   ],
   "source": [
    "model.summary()"
   ]
  },
  {
   "cell_type": "code",
   "execution_count": 7,
   "metadata": {},
   "outputs": [
    {
     "name": "stderr",
     "output_type": "stream",
     "text": [
      "C:\\Users\\SODIQ-PC\\Miniconda3\\envs\\tensorflow\\lib\\site-packages\\keras\\callbacks.py:535: RuntimeWarning: Early stopping conditioned on metric `val_loss` which is not available. Available metrics are: loss,acc\n",
      "  (self.monitor, ','.join(list(logs.keys()))), RuntimeWarning\n"
     ]
    },
    {
     "name": "stdout",
     "output_type": "stream",
     "text": [
      "\n",
      "....................................................................................................\n",
      "....................................................................................................\n",
      "....................................................................................................\n",
      "....................................................................................................\n",
      "....................................................................................................\n",
      "....................................................................................................\n",
      "....................................................................................................\n",
      "....................................................................................................\n",
      "....................................................................................................\n",
      "....................................................................................................\n",
      "....................................................................................................\n",
      "....................................................................................................\n",
      "....................................................................................................\n",
      "....................................................................................................\n",
      "....................................................................................................\n",
      "....................................................................................................\n",
      "....................................................................................................\n",
      "....................................................................................................\n",
      "....................................................................................................\n",
      "....................................................................................................\n",
      "....................................................................................................\n",
      "....................................................................................................\n",
      "....................................................................................................\n",
      "....................................................................................................\n",
      "....................................................................................................\n",
      "....................................................................................................\n",
      "....................................................................................................\n",
      "....................................................................................................\n",
      "....................................................................................................\n",
      "....................................................................................................\n",
      "....................................................................................................\n",
      "....................................................................................................\n",
      "....................................................................................................\n",
      "....................................................................................................\n",
      "....................................................................................................\n",
      "....................................................................................................\n",
      "....................................................................................................\n",
      "....................................................................................................\n",
      "....................................................................................................\n",
      "....................................................................................................\n",
      "....................................................................................................\n",
      "....................................................................................................\n",
      "....................................................................................................\n",
      "....................................................................................................\n",
      "....................................................................................................\n",
      "....................................................................................................\n",
      "....................................................................................................\n",
      "....................................................................................................\n",
      "....................................................................................................\n",
      "...................................................................................................."
     ]
    }
   ],
   "source": [
    "# Display training progress by printing a single dot for each completed epoch\n",
    "class PrintDot(keras.callbacks.Callback):\n",
    "  def on_epoch_end(self, epoch, logs):\n",
    "    if epoch % 100 == 0: print('')\n",
    "    print('.', end='')\n",
    "\n",
    "EPOCHS = 5000\n",
    "\n",
    "# The patience parameter is the amount of epochs to check for improvement\n",
    "early_stop = keras.callbacks.EarlyStopping(monitor='acc', patience=20)\n",
    "\n",
    "# Store training stats\n",
    "history = model.fit(X_train, y_train, epochs=EPOCHS,\n",
    "                    verbose=0, callbacks=[early_stop, PrintDot()])"
   ]
  },
  {
   "cell_type": "code",
   "execution_count": 14,
   "metadata": {},
   "outputs": [],
   "source": [
    "import matplotlib.pyplot as plt\n",
    "\n",
    "\n",
    "def plot_history(history):\n",
    "  plt.figure()\n",
    "  plt.xlabel('Epoch')\n",
    "  plt.ylabel('Accuracy')\n",
    "  plt.plot(history.epoch, np.array(history.history['acc']),\n",
    "           label='Train Loss')\n",
    "  plt.plot(history.epoch, np.array(history.history['acc']),\n",
    "           label = 'loss')\n",
    "  plt.legend()\n",
    "  plt.ylim([0, 1])"
   ]
  },
  {
   "cell_type": "code",
   "execution_count": 15,
   "metadata": {},
   "outputs": [
    {
     "data": {
      "image/png": "[encoded data removed]",
      "text/plain": [
       "<Figure size 432x288 with 1 Axes>"
      ]
     },
     "metadata": {
      "needs_background": "light"
     },
     "output_type": "display_data"
    }
   ],
   "source": [
    "plot_history(history)"
   ]
  },
  {
   "cell_type": "code",
   "execution_count": 33,
   "metadata": {},
   "outputs": [
    {
     "name": "stdout",
     "output_type": "stream",
     "text": [
      "[0.2266894781992311, 0.2848588537338761, 0.30025662967442857, 0.32848588549958224, 0.3609923011885432, 0.37895637337625077, 0.36270316517485623, 0.35928143718948313, 0.38066723696740906, 0.36441402916116933, 0.378956373146806, 0.3926432848843476, 0.3789563730448306, 0.3840889649400352, 0.3823781011194322, 0.38836612491856487, 0.3815226690243002, 0.3883661249695526, 0.3883661249695526, 0.38922155729412933, 0.39178785294217877, 0.3892215570136969, 0.38323353334203347, 0.38665526126367195, 0.3849443969459387, 0.3832335329468787, 0.39007698890487796, 0.392643284986323, 0.3840889650037699, 0.3875106930273838, 0.3900769889558657, 0.38922155714116613, 0.38579982891997483, 0.3909324210000099, 0.3883661249695526, 0.3875106932568285, 0.38922155729412933, 0.3789563730958183, 0.3798118049742525, 0.3875106930273838, 0.3892215570136969, 0.3866552609832395, 0.3900769889558657, 0.3875106930273838, 0.38665526131465966, 0.3866552609322518, 0.3798118050379871, 0.3849443969459387, 0.38323353334203347, 0.3883661250205403, 0.38751069330781623, 0.38922155724314156, 0.3806672370821314, 0.3832335329468787, 0.3875106930783715, 0.3883661251989973, 0.3909324209490222, 0.3798118050889749, 0.3875106929126614, 0.3917878529931665, 0.3832335330106133, 0.3909324210509977, 0.3934987170304673, 0.3832335329978664, 0.3866552610852149, 0.3892215568989745, 0.38408896533519005, 0.392643284986323, 0.38751069330781623, 0.39093242128044237, 0.39093242088528757, 0.3926432849225884, 0.38922155729412933, 0.3866552609131314, 0.3900769890068534, 0.3866552609832395, 0.3875106929254083, 0.3849443970479141, 0.38665526131465966, 0.38836612490581796, 0.3900769890068534, 0.39007698923629813, 0.39178785294217877, 0.3875106930273838, 0.3892215569117214, 0.3909324210509977, 0.39007698928728585, 0.38066723696740906, 0.3892215570646846, 0.3892215569627091, 0.3857998290920584, 0.3917878529931665, 0.3875106929254083, 0.39264328526675546, 0.3857998289390952, 0.3986313092188513, 0.3969204448501303, 0.39349871725991203, 0.38665526091950486, 0.3892215569499622, 0.3943541489216484, 0.3892215568989745, 0.3926432849353353, 0.39007698928728585, 0.3892215569117214, 0.3806672370311437, 0.39777587689427457, 0.3823781011194322, 0.3909324208980345, 0.3926432848843476, 0.3823781009537221, 0.3943541489726361, 0.3840889650037699, 0.3815226690752879, 0.3857998289390952, 0.38579982899008297, 0.3986313089384188, 0.3832335330106133, 0.3840889651057453, 0.3883661249695526, 0.3943541489726361, 0.3815226690752879, 0.38665526126367195, 0.3934987170304673, 0.3917878530441542, 0.40205303680906956, 0.3866552609832395, 0.388366125071528, 0.40290846885321385, 0.40547476483268347, 0.3883661249695526, 0.4020530368600573, 0.3892215570136969, 0.3952095810167804, 0.3866552610342272, 0.3917878530696481, 0.39777587689427457, 0.39948674082959995, 0.38836612491856487, 0.3934987169794796, 0.39777587722569474, 0.3986313089894066, 0.3934987168647572, 0.3909324210000099, 0.3952095808638172, 0.3969204448883711, 0.4037639008973581, 0.3866552610342272, 0.39349871687750415, 0.3917878530441542, 0.38922155729412933, 0.39777587689427457, 0.39093242088528757, 0.3875106930273838, 0.39435414887066067, 0.39692044483738337, 0.39520958124622513, 0.39948674088058767, 0.3977758769452623, 0.39007698890487796, 0.41573994869957426, 0.38751069330781623, 0.4011976048031661, 0.3969204451815505, 0.3934987169794796, 0.4140290847642489, 0.3960650129079615, 0.40889649275432194, 0.407185629099429, 0.3952095809657927, 0.383233533061601, 0.3926432848843476, 0.3960650129589492, 0.3952095808510703, 0.3857998289263483, 0.39178785294217877, 0.39007698888575754, 0.3969204448501303, 0.396920444901118, 0.4097519249004416, 0.3892215569499622, 0.3986313089894066, 0.3969204448501303, 0.3909324209362753, 0.39349871725991203, 0.3900769890578411, 0.40889649285629737, 0.39349871687750415, 0.39777587689427457, 0.3943541490236238, 0.396920444901118, 0.3849443969969264, 0.3917878529931665, 0.40119760519832093, 0.40633019677485227, 0.3883661250205403, 0.39692044495210577, 0.3969204448501303, 0.3900769890068534, 0.40633019676210536, 0.3875106930783715, 0.39264328526675546, 0.39948674082959995, 0.39948674082959995, 0.40804106109258553, 0.3866552609322518, 0.3926432849225884, 0.395209580902058, 0.3832335329596256, 0.3994867409315754, 0.38836612530097275, 0.40718562880624964, 0.39777587722569474, 0.3909324209362753, 0.40804106114357325, 0.402908469184634, 0.3960650128346666, 0.4011976049178885, 0.3815226691262757, 0.40376390084637037, 0.3934987170304673, 0.4029084688022261, 0.3909324210509977, 0.3798118050379871, 0.40376390078263574, 0.4003421729757196, 0.402053036911045, 0.4029084689551893, 0.40034217286099727, 0.4208725408114767, 0.402053036911045, 0.40547476483268347, 0.3892215569627091, 0.4054747649346589, 0.3917878532226112, 0.3986313092188513, 0.41060735672788806, 0.3875106929062879, 0.39435414920208084, 0.3909324209490222, 0.402908469184634, 0.402053036911045, 0.40804106114357325, 0.40034217282275647, 0.3969204451815505, 0.3994867409825631, 0.39606501284422685, 0.40547476483268347, 0.39948674088058767, 0.40975192512988634, 0.3969204448501303, 0.3909324208980345, 0.3875106930783715, 0.39777587722569474, 0.3986313088364434, 0.40034217281000956, 0.3917878530441542, 0.38408896493366174, 0.3960650130864185, 0.40547476483268347, 0.3866552609322518, 0.40119760519832093, 0.40633019682584, 0.392643284986323, 0.40376390079538266, 0.39606501285697376, 0.3875106930783715, 0.3943541490236238, 0.3952095809657927, 0.407185629099429, 0.4054747649346589, 0.39178785289119106, 0.40633019692781547, 0.4011976048541538, 0.40034217282275647, 0.41830624478101935, 0.39093242122945465, 0.396920444901118, 0.392643284986323, 0.3815226689541921, 0.3823781009537221, 0.4011976049178885, 0.38751069330781623, 0.40034217286099727, 0.4046193329415024, 0.4131736528220801, 0.40205303680906956, 0.4003421729757196, 0.39264328521576775, 0.4037639008973581, 0.3986313089894066, 0.39435414925306855, 0.40119760486690076, 0.40975192479846617, 0.42087254063939317, 0.40290846890420157, 0.42001710866535696, 0.392643284986323, 0.4063301971572602, 0.39948674088058767, 0.39520958091480496, 0.40804106074841845, 0.4029084688022261, 0.41317365277109236, 0.39777587684328686, 0.39777587722569474, 0.4148845170378379, 0.4277159969861738, 0.4123182210583683, 0.4260051326174528, 0.38579982899008297, 0.41402908486622436, 0.4046193327885392, 0.40547476483268347, 0.4071856289974536, 0.4088964929072851, 0.39948674082959995, 0.40119760519832093, 0.402053037089502, 0.4225834047977898, 0.4037639008973581, 0.41060735679162275, 0.39948674088058767, 0.39948674088058767, 0.3815226690115533, 0.39692044483738337, 0.4011976049178885, 0.3986313088874311, 0.4174508128388505, 0.4088964931367298, 0.421727973034078, 0.42771599659101894, 0.41402908471326116, 0.41402908471326116, 0.40205303719147745, 0.3994867409825631, 0.40290846885321385, 0.41402908486622436, 0.41830624483200707, 0.40376390078263574, 0.41231822071420116, 0.3969204452325382, 0.38751069330781623, 0.38836612490581796, 0.3815226689605656, 0.3772455090457706, 0.3738237810731444, 0.3661248931474824, 0.3781009410389271, 0.34730538924705073, 0.36612489324945785, 0.3601368695268068, 0.3473053895784709, 0.3806672370311437, 0.3541488452432908, 0.3721129170995782, 0.3892215570646846, 0.3592814372022301, 0.3875106930783715, 0.39948674082959995, 0.39349871687750415, 0.3849443969969264, 0.3986313089894066, 0.3952095809657927, 0.3900769889558657, 0.4088964930347544, 0.3832335329596256, 0.3943541489216484, 0.39948674088058767, 0.4003421728737442, 0.3969204448310099, 0.40034217282275647, 0.39777587699625, 0.396920444901118, 0.40205303719147745, 0.3986313089894066, 0.41060735679162275, 0.40547476478169575, 0.39777587689427457, 0.40547476476894884, 0.42172797270265777, 0.4114627890652117, 0.39606501285697376, 0.402053036911045, 0.40461933306897163, 0.42087254065851354, 0.4217279729830903, 0.41488451675740545, 0.4302822925832355, 0.4097519248494539, 0.43028229263422324, 0.4054747648836712, 0.4242942690135476, 0.42001710876733245, 0.42001710871634473, 0.4277159966037659, 0.42686056464885014, 0.41830624483200707, 0.43455945265099366, 0.4396920445079575, 0.41402908471326116, 0.42343883667622395, 0.4251497007262717, 0.42942686059007895, 0.4396920445589452, 0.42429426868212744, 0.4285714287498856, 0.44311377258255913, 0.44653550060617303, 0.43199315662053633, 0.4448246368493047, 0.42343883668897087, 0.44824636449051064, 0.4345594525362713, 0.4473909328287743, 0.4542343883916187, 0.4405474767815465, 0.4473909328287743, 0.44054747650111403, 0.451668092794557, 0.44225834053841484, 0.43541488469513795, 0.4396920445079575, 0.453378956436703, 0.4491017964836672, 0.44482463679831696, 0.45166809256511226, 0.44225834058940255, 0.44824636482193086, 0.4396920448903654, 0.4482463645414984, 0.4431137725315714, 0.44311377281200387, 0.44311377263354684, 0.45680068452405154, 0.4568006847534963, 0.4585115483574015, 0.4448246368493047, 0.4619332763810154, 0.4550898207671832, 0.469632164370412, 0.46022241272612247, 0.46877673227528, 0.4568006847534963, 0.46877673255571245, 0.4627887083741719, 0.46706586867137484, 0.45252352473672586, 0.4576561165172081, 0.4602224123437146, 0.44824636482193086, 0.450812660520968, 0.4644995722967504, 0.44653550060617303, 0.45594525242891953, 0.4662104362958104, 0.4670658683399546, 0.4602224123947023, 0.46107784461730356, 0.4730538922410627, 0.4568006847534963, 0.47134302858616983, 0.4798973484157598, 0.4653550043026538, 0.45765611674665285, 0.47048759664400097, 0.47733105220684546, 0.4739093243361947, 0.4824636445481926, 0.48075278056187953, 0.4781864843019774, 0.4704875963125808, 0.47989734856872296, 0.4713430282420027, 0.4867408044629876, 0.47647562059609677, 0.4875962362266994, 0.4730538925724829, 0.47476475660978373, 0.4824636444972049, 0.47476475655879596, 0.4773310523088209, 0.4713430283057374, 0.46621043657624284, 0.47904191619315856, 0.49871685208674676, 0.48331907654134915, 0.4798973482882905, 0.47989734856872296, 0.4850299404256868, 0.49101796409735016, 0.4944396924013965, 0.4756201885009648, 0.4987168523161915, 0.4893071002130125, 0.4739093242342193, 0.4764756202646766, 0.47390932461662716, 0.4970059883808661, 0.46877673260670016, 0.49101796447975804, 0.4884516684493007, 0.47219846063031407, 0.4739093243871824, 0.4833190762609167, 0.49615055615826487, 0.4773310522450862, 0.48759623645614414, 0.4833190762609167, 0.48160821217262817, 0.47305389252149516, 0.4935842601278075, 0.5047048759878549, 0.47818648448043444, 0.49443969206997634, 0.4901625322571568, 0.5004277161240476, 0.49443969212096406, 0.4875962362266994, 0.5004277160220721, 0.48674080451397533, 0.4679213003331112, 0.47818648458240987, 0.4961505564386973, 0.49272882808366325, 0.49443969212096406, 0.4824636444972049, 0.49957228402891557, 0.4910179643267949, 0.49358426022978297, 0.48674080418255516, 0.49871685208674676, 0.4944396924523842, 0.4858853721893986, 0.49700598810043367, 0.48160821217262817, 0.49101796414833787, 0.5029940120015418, 0.49871685208674676, 0.48759623650713185, 0.49358426040823994, 0.497861420323035, 0.5055603079810114, 0.485885372291374, 0.4850299403746991, 0.5012831480152287, 0.4910179644287703, 0.4901625324356138, 0.49871685241816693, 0.4927288284150834, 0.4918733960905067, 0.5021385800083852, 0.4910179641993256, 0.497861420323035, 0.49529512439455303, 0.4961505563877096, 0.4961505564386973, 0.5047048759878549, 0.49786142009359025, 0.5072711720183122, 0.4952951241651083, 0.5115483319331072, 0.4935842601278075, 0.502138580059373, 0.4893071001620248, 0.5055603080829868, 0.4910179641993256, 0.5021385801613484, 0.513259195970408, 0.5055603081084807, 0.5166809240450096, 0.5106929003223586, 0.47989734846674753, 0.4995722842583603, 0.5081266041134442, 0.4944396922229395, 0.5029940123839497, 0.5004277163534923, 0.49957228402891557, 0.49529512444554075, 0.5012831481172041, 0.5047048760388426, 0.4987168523161915, 0.5012831483976365, 0.5235243799392743, 0.5004277160220721, 0.5089820359408906, 0.5072711722987446, 0.5132591961998527, 0.5012831480152287, 0.49358426040823994, 0.4987168523671792, 0.5081266043428889, 0.5012831480662164, 0.49615055615826487, 0.5021385800083852, 0.5012831482956611, 0.5047048763702627, 0.5021385800083852, 0.5012831482446735, 0.5098374679340472, 0.5029940121799988, 0.5021385800083852, 0.5081266042409135, 0.5166809242744543, 0.5072711719673245, 0.5004277161240476, 0.5158254922303102, 0.514114628243997, 0.5064157403565759, 0.5115483323155151, 0.5098374679467941, 0.4995722840799033, 0.5132591963018281, 0.5029940122309865, 0.49529512444554075, 0.508126603960481, 0.5115483319840949, 0.5132591959194203, 0.5115483323155151, 0.5064157402546005, 0.5192472202029362, 0.5106928999399507, 0.5115483321115643, 0.515825492077347, 0.5089820359536376, 0.5012831483466489, 0.5004277160220721, 0.5132591959194203, 0.4978614202210595, 0.5072711720183122, 0.5132591963018281, 0.5124037641047208, 0.5115483322645273, 0.5021385803398054, 0.4961505563877096, 0.5183917882097797, 0.5038494442751308, 0.5055603083634193, 0.5158254918988899, 0.4978614204250104, 0.5166809242234667, 0.5098374681252511, 0.5158254921793224, 0.5055603079682645, 0.5158254922812978, 0.5098374682272265, 0.5183917878783596, 0.5166809242744543, 0.5012831481681919, 0.5115483323155151, 0.5295124041718026, 0.5089820359536376, 0.5098374679467941, 0.5072711719673245, 0.5004277163534923, 0.5055603080319991, 0.5098374679467941, 0.5209580839088169, 0.5149700599567211, 0.5124037642066962, 0.5175363562166232, 0.5201026520176358, 0.5320786997688642, 0.519247220253924, 0.5012831481172041, 0.5106928999399507, 0.5192472201519486, 0.49871685241816693, 0.49786142009359025, 0.5012831480534695, 0.5183917882097797, 0.5337895641375853, 0.5149700602881413, 0.5218135162333937, 0.5089820359536376, 0.4944396920572294, 0.5209580841382616, 0.5201026520176358, 0.5141146279125768, 0.4901625324356138, 0.5098374679467941, 0.5235243798245519, 0.5278015398540693, 0.5115483322645273, 0.5124037643086716, 0.5269461081923329, 0.5286569721786459, 0.5098374680487695, 0.5149700599057334, 0.5260906761481886, 0.5158254922812978, 0.5166809241214912, 0.5166809240450096, 0.5209580840107924, 0.5175363559871784, 0.5012831480662164, 0.5149700601351781, 0.522668948073587, 0.5141146279635646, 0.5218135161314182, 0.5218135158509858, 0.527801539905057, 0.5098374679977818, 0.5201026521960929, 0.5235243802197067, 0.5166809238792995, 0.518391787980335, 0.5303678357825512, 0.5158254920008654, 0.5226689482265502, 0.5149700599057334, 0.5243798122128632, 0.5098374679977818, 0.5226689481755624, 0.517536355885203, 0.5201026519156604, 0.5115483323155151, 0.5158254920518531, 0.5183917878783596, 0.5303678361139713, 0.517536355872456, 0.517536356267611, 0.5295124040698271, 0.5166809240450096, 0.5141146279125768, 0.5337895640865975, 0.5201026522470805, 0.5209580841382616, 0.5141146280145523, 0.5295124041718026, 0.5252352441040443, 0.5183917882097797, 0.5124037639772515, 0.5218135162333937, 0.5029940121035172, 0.5252352442060199, 0.5158254921793224, 0.5252352442060199, 0.5192472201519486, 0.5158254922812978, 0.5243798120599001, 0.52266894789513, 0.5106928999272037, 0.514114628243997, 0.5337895640865975, 0.5235243802197067, 0.5047048759878549, 0.519247220253924, 0.5149700602881413, 0.5166809242744543, 0.5269461081413451, 0.5158254918988899, 0.5132591960978773, 0.5243798121108878, 0.5243798119324308, 0.5124037643086716, 0.5192472201009608, 0.5218135160294427, 0.5278015398030815, 0.5286569718472258, 0.5278015398540693, 0.5201026518901665, 0.5440547476730558, 0.5021385799956383, 0.5252352438236119, 0.5192472201519486, 0.5260906758677562, 0.5183917881078043, 0.5252352441550321, 0.5183917881078043, 0.5098374680997573, 0.5158254920518531, 0.5260906758167685, 0.5141146280145523, 0.49957228401616866, 0.5201026522470805, 0.5295124041718026, 0.5081266043428889, 0.5183917879293473, 0.5389221557141166, 0.542343884018163, 0.5158254920008654, 0.5243798121108878, 0.5218135162333937, 0.5158254922812978, 0.5158254922303102, 0.5295124038913701, 0.5158254920518531, 0.5260906761991764, 0.5175363561656354, 0.5278015399815386, 0.5329341318130085, 0.5269461081413451, 0.5380667238229355, 0.5158254918988899, 0.5098374682782143, 0.528656971796238, 0.5201026520941174, 0.5201026521451051, 0.5252352439255874, 0.5320787001002845, 0.5337895640356098, 0.5064157401271311, 0.522668948073587, 0.5440547477750313, 0.5252352438236119, 0.527801540083514, 0.5243798119324308, 0.5312232678266955, 0.5226689478441423, 0.5243798118304553, 0.5226689481245748, 0.5141146280145523, 0.5457656119907891, 0.5355004280219229, 0.5166809240705035, 0.5115483322135397, 0.5243798122128632, 0.5175363561146478, 0.5149700602371535, 0.5389221559945491, 0.5106928999909384, 0.517536355885203, 0.52266894789513, 0.5260906759442378, 0.5380667238994171, 0.5209580838578292, 0.5260906761481886, 0.5295124037893947, 0.5278015398540693, 0.5295124038913701, 0.5252352439255874, 0.5158254919498776, 0.5201026520431297, 0.5209580839088169, 0.5166809242744543, 0.5312232681581156, 0.526090676097201, 0.5201026520941174, 0.5183917882097797, 0.5226689481245748, 0.5175363559361907, 0.5320786999473213, 0.5372112917787912, 0.5226689481755624, 0.5201026519156604, 0.5286569720766705, 0.5226689481755624, 0.5346449959012971, 0.532934132093441, 0.5320787000492967, 0.5423438836867428, 0.5329341317620208, 0.5260906758167685, 0.5406330199298744, 0.528656971796238, 0.520958084087274, 0.5260906761991764, 0.5278015401854894, 0.5278015398030815, 0.5183917881078043, 0.5286569721276583, 0.5235243800667435, 0.5286569721786459, 0.528656971796238, 0.5175363559871784, 0.537211292008236, 0.5243798118304553, 0.5449101800486204, 0.5431993156798993, 0.5192472202029362, 0.5355004280729107, 0.5243798121618756, 0.5406330200828376, 0.5431993158328625, 0.5252352442060199, 0.5243798118814431, 0.5243798122128632, 0.526090676097201, 0.5329341321444288, 0.5329341321444288, 0.5406330200318499, 0.528656971796238, 0.5192472198715161, 0.5303678361139713, 0.5243798118177084, 0.5414884518720433, 0.5372112919062606, 0.5286569721276583, 0.527801540083514, 0.5329341317620208, 0.5295124038913701, 0.5303678358335389, 0.5397775877072731, 0.5406330199808622, 0.5295124041208148, 0.5295124040188394, 0.5269461079119004, 0.534644996079754, 0.5252352442060199, 0.551753635942885, 0.5243798118814431, 0.5303678361139713, 0.5166809239430342, 0.5363558600660672, 0.5337895640865975, 0.5295124041718026, 0.520958084240237, 0.5303678361139713, 0.533789563806165, 0.5337895640356098, 0.5372112919062606, 0.5201026521451051, 0.52266894789513, 0.539777588089681, 0.5295124041718026, 0.532934131914984, 0.5209580838578292, 0.5235243798372988, 0.5201026521451051, 0.523524379990262, 0.5243798121108878, 0.5389221557651044, 0.5312232681581156, 0.5312232677757077, 0.5355004281238983, 0.5380667240013925, 0.5252352441040443, 0.5303678357825512, 0.5149700602371535, 0.5329341321444288, 0.537211291829779, 0.5286569718982135, 0.5312232681581156, 0.5278015401345018, 0.5312232681581156, 0.5474764759771023, 0.534644996079754, 0.5414884519740187, 0.5355004280219229, 0.5286569718472258, 0.5329341321444288, 0.5252352438745996, 0.527801540083514, 0.5431993157563809, 0.526090676097201, 0.5431993160623072, 0.5414884516935863, 0.5320786998708397, 0.5355004280729107, 0.5406330198024052, 0.5397775877582609, 0.5380667240013925, 0.5312232678266955, 0.5337895638571528, 0.5389221557141166, 0.5252352438745996, 0.5355004280729107, 0.5192472202029362, 0.5355004281238983, 0.5320787001002845, 0.5397775877582609, 0.536355859734647, 0.5372112917787912, 0.5269461080393697, 0.5312232678266955, 0.5226689481245748, 0.5431993160623072, 0.5474764760280899, 0.5115483319203603, 0.5303678360629837, 0.5226689481245748, 0.5260906761481886, 0.5397775880386934, 0.5355004279709352, 0.5278015401854894, 0.5278015399815386, 0.5474764756329351, 0.5440547477495374, 0.5269461080393697, 0.5226689481245748, 0.5355004280219229, 0.5286569718982135, 0.5346449957993216, 0.541488451923031, 0.523524380168719, 0.5380667238739232, 0.5260906758167685, 0.5329341320424532, 0.5355004280729107, 0.533789563806165, 0.5397775877582609, 0.532078699819852, 0.5252352441550321, 0.5431993159093441, 0.5320787001512721, 0.5329341317620208, 0.5346449959267909, 0.5320787001512721, 0.5329341319914656, 0.5115483323155151, 0.5252352439255874, 0.5389221557651044, 0.5355004279709352, 0.536355859913104, 0.5192472199225038, 0.5406330197004297, 0.5414884520250064, 0.5491873396829828, 0.5201026521451051, 0.5295124038403823, 0.5397775879877056, 0.5278015401345018, 0.538066724103368, 0.5372112921102115, 0.5397775878602363, 0.5380667238229355, 0.5337895640865975, 0.5278015401345018, 0.5260906760462132, 0.5252352442060199, 0.5372112917787912, 0.532934132093441, 0.5363558597856347, 0.5474764760280899, 0.5406330198024052, 0.5474764757476575, 0.5466210440349334, 0.5295124037893947, 0.539777588089681, 0.5406330199808622, 0.5380667240013925, 0.5226689482265502, 0.5218135159529612, 0.5355004278434659, 0.5457656120417769, 0.5355004281238983, 0.5346449957483339, 0.5406330198024052, 0.5312232678266955, 0.5363558600660672, 0.5355004277414904, 0.5423438840691507, 0.5457656119398014, 0.5295124041718026, 0.5406330197004297, 0.5423438836867428, 0.5423438837377305, 0.5363558597856347, 0.5483319079192711, 0.5303678360629837, 0.5363558600150794, 0.5320787000492967, 0.5380667237209601, 0.5312232678266955, 0.5346449961307418, 0.5500427719565719, 0.542343884018163, 0.5389221557141166, 0.5431993156798993, 0.5278015398540693, 0.5226689478441423, 0.5355004280219229, 0.5423438839161875, 0.5312232681071279, 0.5303678357825512, 0.5474764758751268, 0.5380667239504048, 0.5363558597856347, 0.5406330197514174, 0.5363558601170548, 0.5389221557141166, 0.5406330200828376, 0.5243798122128632, 0.5252352438236119, 0.5389221557651044, 0.5252352438745996, 0.5278015398030815, 0.5389221560965245, 0.5286569721276583, 0.5372112917278036, 0.5363558600660672, 0.534644996079754, 0.5346449959777786, 0.553464499929198, 0.5269461080903575, 0.5295124038403823, 0.5372112917787912, 0.546621043932958, 0.539777588089681, 0.519247220253924, 0.5389221560965245, 0.5406330198024052, 0.5355004281238983, 0.5363558601170548, 0.5500427716251517, 0.5431993157818747, 0.552609067655609, 0.5380667237719478, 0.5320786997688642, 0.5431993157308871, 0.5243798118304553, 0.5329341321444288, 0.5320787001512721, 0.5491873396829828, 0.5389221560965245, 0.5320787001002845, 0.5372112920592237, 0.5355004279199475, 0.5414884516935863, 0.5346449959012971, 0.5320787000492967, 0.547476475645682, 0.5286569719746951, 0.5286569721786459, 0.5295124039423578, 0.5312232681581156, 0.541488451923031, 0.5406330199808622, 0.5397775877072731, 0.5414884519740187, 0.5303678360119959, 0.5406330197004297, 0.5534644998782103, 0.5312232677757077, 0.5252352438236119, 0.5389221557141166, 0.5380667240013925, 0.5440547480044761, 0.545765611837826, 0.5380667240013925, 0.541488451923031, 0.5269461077971781, 0.5440547477240436, 0.5295124041208148, 0.5389221557651044, 0.5474764759261145, 0.5406330199298744, 0.5449101799466449, 0.533789563806165, 0.5414884520250064, 0.5355004281238983, 0.5449101800486204, 0.5346449959777786, 0.5329341319914656, 0.5312232681581156, 0.5278015401854894, 0.5295124038403823, 0.5449101799976326, 0.5423438839671753, 0.5363558600660672, 0.5337895637424305, 0.5457656119398014, 0.5449101798956572, 0.5517536356114647, 0.5491873398614399, 0.536355859734647, 0.5363558600660672, 0.538066724103368, 0.5295124038403823, 0.5363558600660672, 0.5397775879877056, 0.5389221557651044, 0.5440547480554638, 0.546621043932958, 0.532934132093441, 0.528656971796238, 0.541488451923031, 0.5320786999473213, 0.5491873398614399, 0.5389221560455368, 0.5483319079192711, 0.5346449957483339, 0.5355004280729107, 0.5363558599640917, 0.5355004280729107, 0.5226689481755624, 0.5355004281238983, 0.526090676097201, 0.5337895639846221, 0.5346449959777786, 0.5534644995977779, 0.5226689482265502, 0.5397775880386934, 0.5406330200828376, 0.542343884018163, 0.5346449957483339, 0.5363558600150794, 0.5414884517445739, 0.5431993160623072, 0.536355859734647, 0.5508982038987407, 0.5457656119907891, 0.5406330200318499, 0.5543199319733423, 0.5320786998708397, 0.5543199315781875, 0.5449101800486204, 0.542343884018163, 0.5355004281238983, 0.5389221560965245, 0.5440547476730558, 0.5474764759261145, 0.5406330197004297, 0.539777588089681, 0.5440547479534883, 0.5397775879877056, 0.5355004277924782, 0.5517536358918972, 0.5414884520250064, 0.5397775878092486, 0.5483319077408141, 0.5226689482265502, 0.5483319077408141, 0.55603079585768, 0.5568862279018242, 0.5406330199808622, 0.534644996079754, 0.5243798118304553, 0.5380667237209601, 0.5329341317620208, 0.5346449957483339, 0.5295124041718026, 0.5449101796662125, 0.5483319080212465, 0.5329341320424532, 0.5389221559435614, 0.5449101796662125, 0.5329341321444288, 0.537211292008236, 0.5355004281238983, 0.5295124041208148, 0.5397775878092486, 0.5431993158583563, 0.5406330199808622, 0.5295124038403823, 0.5423438839671753, 0.5431993158328625, 0.5303678361139713, 0.5286569718472258, 0.5278015401345018, 0.5457656118888137, 0.5414884519740187, 0.5397775879367179, 0.5329341318130085, 0.547476475645682, 0.5295124041718026, 0.539777588089681, 0.5500427716761394, 0.5380667240013925, 0.5449101796662125, 0.547476475645682, 0.5303678358335389, 0.5603079559254381, 0.5355004280729107, 0.5252352440530567, 0.5312232680051524, 0.5431993156798993, 0.5560307959086677, 0.5449101799466449, 0.5543199318203792, 0.5500427720075596, 0.5337895637551774, 0.537211291829779, 0.5423438839161875, 0.5457656118888137, 0.5560307957557045, 0.5517536358409095, 0.5491873399634153, 0.5389221560965245, 0.5355004280219229, 0.541488451923031, 0.5508982039497284, 0.5483319076388385, 0.5320787001512721, 0.5372112921102115, 0.5389221558415859, 0.5303678361649591, 0.5397775877072731, 0.5414884519740187, 0.5534644998782103, 0.542343884018163, 0.5645851157382576, 0.5397775879877056, 0.542343884018163, 0.551753635942885, 0.5286569721786459, 0.550898203669296, 0.534644996079754, 0.538066724103368, 0.5363558598366224, 0.536355859913104, 0.5654405475019695, 0.5389221557651044, 0.5329341319914656, 0.5577416595635606, 0.5440547480554638, 0.5431993156798993, 0.5397775877072731, 0.5372112921102115, 0.5329341318639963, 0.5423438837377305, 0.5355004277414904, 0.5560307958066922, 0.5363558598366224, 0.5466210440349334, 0.5355004280219229, 0.5423438836739959, 0.5346449960287664, 0.5406330197004297, 0.5440547477240436, 0.5508982038987407, 0.5252352441550321, 0.5500427719055841, 0.5483319077918017, 0.5372112920592237, 0.5474764760280899, 0.5585970915567171, 0.5500427720075596, 0.5440547480554638, 0.532934132093441, 0.5320786997688642, 0.5329341318639963, 0.5414884520250064, 0.5363558599640917, 0.5457656117613444, 0.5474764759261145, 0.5449101800486204, 0.5440547480044761, 0.5372112918807667, 0.5431993156798993, 0.5397775877072731, 0.5474764760280899, 0.5346449960287664, 0.5483319076388385, 0.5466210437035133, 0.5466210436525255, 0.5534644996487655, 0.5491873396829828, 0.5500427716251517, 0.5440547478005252, 0.5449101796662125, 0.5320786997561173, 0.551753635942885, 0.5508982039497284, 0.5414884519740187, 0.5389221557141166, 0.5406330200828376, 0.5645851158402331, 0.5414884519740187, 0.5500427719565719, 0.5474764759771023, 0.5526090679870292, 0.5474764759261145, 0.542343884018163, 0.5380667238739232, 0.5406330198788867, 0.5320786997688642, 0.5303678361139713, 0.5449101800486204, 0.5380667240013925, 0.5355004281238983, 0.5440547476730558, 0.5320786999218274, 0.5380667240013925, 0.545765611659369, 0.5508982038987407, 0.5346449957993216, 0.5406330198788867, 0.5483319079192711, 0.5543199316419222, 0.5440547480554638, 0.5372112919572483, 0.5508982037967652, 0.5474764759771023, 0.5526090679360415, 0.5431993157308871, 0.5449101799976326, 0.5466210440349334, 0.5363558600150794, 0.5526090678850538, 0.5517536356114647, 0.5346449957993216, 0.5355004281238983, 0.5440547476730558, 0.5406330200318499, 0.5491873399124276, 0.5517536356114647, 0.5346449957993216, 0.5500427720075596, 0.5526090678850538, 0.5517536356114647, 0.5406330198024052, 0.5457656120417769, 0.5440547480044761, 0.5508982038987407, 0.5449101799466449, 0.5380667238484294, 0.5414884520759942, 0.5637296836431257, 0.558597091939125, 0.538066724103368, 0.5466210436525255, 0.553464499929198, 0.5389221558925736, 0.541488451923031, 0.5226689481245748, 0.5466210439839457, 0.5440547479534883, 0.5577416599459685, 0.5466210440349334, 0.5457656120417769, 0.542343884018163, 0.5483319080212465, 0.532934132093441, 0.5380667240013925, 0.5449101798956572, 0.5406330198788867, 0.5414884520250064, 0.5491873399124276, 0.5534644999801858, 0.5543199319223546, 0.5594525239322816, 0.5508982036183082, 0.5466210440349334, 0.5406330200318499, 0.5337895641375853, 0.5414884520250064, 0.5508982039497284, 0.5474764757476575, 0.5397775879877056, 0.5483319079702588, 0.5534644999801858, 0.5414884519740187, 0.5431993160623072, 0.5440547479534883, 0.546621043932958, 0.5483319077663079, 0.5517536358918972, 0.5406330200828376, 0.5226689481245748, 0.5594525239322816, 0.5526090676046214, 0.5406330197514174, 0.5380667240523802, 0.552609067655609, 0.5406330198024052, 0.5312232681071279, 0.5534644998272226, 0.5423438839671753, 0.532078699819852, 0.5457656118888137, 0.5551753639664988, 0.5389221560455368, 0.5406330200828376, 0.5389221560965245, 0.5397775878602363, 0.5491873396829828, 0.5483319079192711, 0.5278015401345018, 0.537211291829779, 0.5389221557651044, 0.5534644999801858, 0.5346449957993216, 0.5440547476730558, 0.547476475645682, 0.5363558597856347, 0.5389221557651044, 0.5466210438819703, 0.5457656120417769, 0.5508982038987407, 0.5423438837887182, 0.5406330200318499, 0.5337895637424305, 0.5423438837887182, 0.5431993160113195, 0.5363558597219, 0.5457656119907891, 0.5312232681071279, 0.5431993160113195, 0.5372112920592237, 0.5508982039497284, 0.5337895637551774, 0.5355004277414904, 0.5389221559435614, 0.5278015401345018, 0.5440547479534883, 0.5423438839671753, 0.5397775877582609, 0.5457656119907891, 0.538066724103368, 0.5517536357134402, 0.5508982036183082, 0.5466210438819703, 0.5483319076898263, 0.5414884517955617, 0.5355004280219229, 0.5363558601170548, 0.5440547480554638, 0.5517536357134402, 0.5500427719565719, 0.5517536358409095, 0.5568862276213917, 0.5363558600660672, 0.5440547478515129, 0.5671514117177273, 0.5594525238812939, 0.5329341319914656, 0.5286569718472258, 0.5491873400144031, 0.5414884516935863, 0.5466210436397786, 0.5397775877072731, 0.5457656119398014, 0.5491873399634153, 0.5517536356114647, 0.5466210437545009, 0.5449101796662125, 0.5355004277924782, 0.5466210440349334, 0.5620188199117512, 0.5431993160623072, 0.5423438837887182, 0.5355004281238983, 0.5500427719055841, 0.5363558597856347, 0.5466210436907663, 0.5431993157818747, 0.5457656118888137, 0.5380667237082132, 0.5508982036183082, 0.5474764759261145, 0.5474764757476575, 0.5303678357825512, 0.5449101796662125, 0.5423438836867428, 0.5474764757476575, 0.5517536358918972, 0.5543199319733423, 0.5543199318203792, 0.5346449957993216, 0.5389221560965245, 0.5457656120417769, 0.5406330197514174, 0.5500427719565719, 0.5543199318713669, 0.5397775877072731, 0.5491873396829828, 0.5303678358335389, 0.5406330197514174, 0.5397775877072731, 0.536355859734647, 0.5372112918807667, 0.5380667238229355, 0.545765611659369, 0.5346449959267909, 0.557741659665536, 0.5491873397084768, 0.5397775877072731, 0.5269461081413451, 0.5363558597856347, 0.5363558598876101, 0.5466210436525255, 0.5457656118888137, 0.5320787001512721, 0.5406330200828376, 0.5500427716251517, 0.5474764759261145, 0.5483319076388385, 0.5449101796662125, 0.5466210439839457, 0.5440547480044761, 0.558597091939125, 0.5431993160623072, 0.5397775878602363, 0.538066724103368, 0.5431993158328625, 0.5594525236008614, 0.5500427718545964, 0.5466210439839457, 0.536355859734647, 0.5474764760280899, 0.5568862277998488, 0.5329341321444288, 0.5654405478333897, 0.553464499929198, 0.5491873400144031, 0.547476475645682, 0.5534644996997533, 0.5414884520250064, 0.5474764760280899, 0.5457656120417769, 0.5508982036183082, 0.5312232680561402, 0.5543199318203792, 0.5551753639155111, 0.5551753635840909, 0.5662959798775339, 0.5363558599640917, 0.5474764759261145, 0.5423438840691507, 0.5449101796662125, 0.5423438837377305, 0.5397775880386934, 0.5431993160113195, 0.5466210438309825, 0.5431993160623072, 0.537211292008236, 0.5363558600660672, 0.5457656117103566, 0.5483319076898263, 0.5534644998782103, 0.5491873399124276, 0.5500427719055841, 0.552609067834066, 0.5474764760280899, 0.546621043932958, 0.5526090676046214, 0.5543199315909344, 0.5517536356624525, 0.5508982038987407, 0.5483319076388385, 0.5397775877072731, 0.5423438839161875, 0.5431993157308871, 0.5397775877072731, 0.5320787001512721, 0.539777588089681, 0.5397775878092486, 0.5483319077408141, 0.5286569719746951, 0.5491873399124276, 0.5457656119398014, 0.542343884018163, 0.5508982040007161, 0.538066724103368, 0.5372112917278036, 0.537211292008236, 0.5474764756966698, 0.5372112919572483, 0.5440547479025006, 0.5337895638571528, 0.5603079558744504, 0.5423438839161875, 0.5500427719565719, 0.551753635942885, 0.5449101796662125, 0.5397775876945262, 0.5526090677320906, 0.556030795679223, 0.5637296836176319, 0.5466210437545009, 0.5474764760280899, 0.5517536356114647, 0.5483319080212465, 0.5500427716761394, 0.5551753635840909, 0.536355859734647, 0.5508982037967652, 0.5543199318203792, 0.5355004280729107, 0.5337895641375853, 0.5508982038987407, 0.5457656117868382, 0.5431993160623072, 0.5603079558234627, 0.5397775879877056, 0.5491873396319952, 0.5500427720075596, 0.5466210440349334, 0.5431993156798993, 0.550898203669296, 0.5637296838980643, 0.5560307955772475, 0.553464499929198, 0.5431993157308871, 0.5457656119398014, 0.5560307958066922, 0.5560307959086677, 0.5397775879877056, 0.5355004280729107, 0.5491873400144031, 0.5508982036183082, 0.5466210439839457, 0.5526090679360415, 0.5440547477240436, 0.539777588089681, 0.5560307959596554, 0.5466210437035133, 0.5577416596145484, 0.5414884520759942, 0.546621043932958, 0.534644996079754, 0.5355004277924782, 0.552609067655609, 0.5577416599459685, 0.5500427718036087, 0.5551753636350787, 0.5440547478515129, 0.5355004277414904, 0.5483319076898263, 0.5440547480554638, 0.5620188198607635, 0.5620188195293433, 0.5491873396829828, 0.5423438838142121, 0.5440547479025006, 0.5611633877146438, 0.5543199319223546, 0.5526090678850538, 0.5508982040007161, 0.5551753635840909, 0.5500427719565719, 0.5483319080212465, 0.5551753639155111, 0.5457656119398014, 0.5320787001002845, 0.539777588089681, 0.545765611659369, 0.5543199315909344, 0.5500427720075596, 0.5406330198024052, 0.5628742515734876, 0.5466210439839457, 0.5491873400144031, 0.5662959797755585, 0.5397775878092486, 0.5423438836867428, 0.5423438837377305, 0.5517536357899218, 0.5568862279018242, 0.5560307959086677, 0.5449101800486204, 0.5491873400144031, 0.5517536359938727, 0.5466210440349334, 0.5312232681071279, 0.5260906758167685, 0.5457656117103566, 0.5483319078682833, 0.55603079585768, 0.5431993157308871, 0.5500427716761394, 0.5363558601170548, 0.5389221560965245, 0.5577416597420176, 0.5389221560455368, 0.5483319079192711, 0.5337895641375853, 0.5585970917861619, 0.5483319076388385, 0.5517536357134402, 0.538066724103368, 0.5329341318894901, 0.545765611837826, 0.5406330199808622, 0.5577416598949808, 0.5346449961307418, 0.5389221557651044, 0.526946107809925, 0.5611633877656315, 0.5543199319733423, 0.5397775877582609, 0.5534644998782103, 0.5449101800486204, 0.5620188197078003, 0.5500427718545964, 0.5491873397594644, 0.5457656119907891, 0.544054747826019, 0.5449101797172001, 0.5526090679870292, 0.5466210436525255, 0.5577416599459685, 0.5560307959596554, 0.55603079585768, 0.5406330199808622, 0.5594525239322816, 0.5449101799466449, 0.5449101798446695, 0.5543199317693914, 0.5457656119907891, 0.5654405475529573, 0.532078699998309, 0.5329341317620208, 0.5671514114882825, 0.5534644998272226, 0.5406330197514174, 0.564585115508813, 0.5620188198607635, 0.5508982038987407, 0.540633019827899, 0.5508982040007161, 0.5491873396829828, 0.5466210437545009, 0.5423438839671753, 0.5500427716251517, 0.5423438840691507, 0.5440547480044761, 0.5431993157818747, 0.5389221557141166, 0.5680068436598962, 0.536355859734647, 0.5688622754745957, 0.5491873397339706, 0.5423438836867428, 0.5500427717271271, 0.541488451923031, 0.5466210440349334, 0.5508982036055613, 0.5483319079702588, 0.5406330197004297, 0.5534644995977779, 0.5577416599459685, 0.5508982039497284, 0.5431993156798993, 0.5560307955772475, 0.5440547478515129, 0.5449101798446695, 0.5526090679870292, 0.542343884018163, 0.5543199318203792, 0.5423438836867428, 0.5380667237719478, 0.5474764757986452, 0.5526090678850538, 0.5568862278508365, 0.5431993159093441, 0.5397775877072731, 0.5474764759261145, 0.5508982036183082, 0.5577416598949808, 0.542343884018163, 0.5372112917787912, 0.5654405477824019, 0.5337895640865975, 0.5543199317438976, 0.5295124037893947, 0.5543199318713669, 0.5457656119907891, 0.5551753637370541, 0.5355004281238983, 0.5500427720075596, 0.5551753638135357, 0.5431993160113195, 0.5500427716761394, 0.5423438836867428, 0.5372112921102115, 0.5466210440349334, 0.5500427718545964, 0.5449101799976326, 0.5346449957993216, 0.5466210436525255, 0.5534644999801858, 0.5320787001002845, 0.5414884519740187, 0.5551753639155111, 0.5329341321444288, 0.5406330198024052, 0.5483319079192711, 0.5603079555430303, 0.5517536356114647, 0.5611633878166192, 0.5423438836867428, 0.542343884018163, 0.5406330199808622, 0.5543199318713669, 0.5483319080212465, 0.5440547479534883, 0.5526090679870292, 0.5457656120417769, 0.5406330199808622, 0.5491873397339706, 0.5431993156798993, 0.5449101799466449, 0.5466210440349334, 0.5372112917278036, 0.5483319077408141, 0.5491873398104522, 0.5491873397339706, 0.539777588089681, 0.5457656119398014, 0.5423438837377305, 0.5431993156798993, 0.5346449957993216, 0.5423438836867428, 0.5611633877146438, 0.5320787000492967, 0.5406330200318499, 0.5594525236518492, 0.5372112921102115, 0.5491873399124276, 0.5423438840691507, 0.5466210438054887, 0.555175363762548, 0.5423438840691507, 0.532934132093441, 0.5483319078172956, 0.5551753635840909, 0.5397775879367179, 0.5329341320424532, 0.5500427719055841, 0.5526090678850538, 0.5423438840691507, 0.5449101800486204, 0.5526090676046214, 0.5406330199808622, 0.5551753638135357, 0.547476475645682, 0.5337895638571528, 0.5474764759771023, 0.566295979495126, 0.5474764759771023, 0.5440547477240436, 0.5440547476730558, 0.5577416597165238, 0.5406330200318499, 0.5517536356114647, 0.5543199315909344, 0.5337895639846221, 0.5440547480554638, 0.5431993160113195, 0.5449101799976326, 0.545765611659369, 0.5517536357134402, 0.5397775876945262, 0.5440547478515129, 0.5543199316419222, 0.5543199319733423, 0.5594525238812939, 0.5508982036183082, 0.5449101797172001, 0.550898203847753, 0.5603079558234627, 0.5414884517445739, 0.5483319076898263, 0.5389221560455368, 0.5526090676046214, 0.5517536357899218, 0.5414884516935863, 0.5355004277924782, 0.5534644995977779, 0.5372112920592237, 0.5397775877072731, 0.5483319076898263, 0.5526090676046214, 0.5560307958066922, 0.5449101799466449, 0.5466210437035133, 0.5585970918881373, 0.5440547480044761, 0.5568862277998488, 0.5449101796662125, 0.5423438836867428, 0.5337895639336344, 0.5406330197514174, 0.538066724103368, 0.5337895639336344, 0.5363558601170548, 0.5312232681581156, 0.5508982038987407, 0.5346449957483339, 0.5577416596145484, 0.5474764760280899, 0.553464499929198, 0.5491873400144031, 0.545765611659369, 0.532078699998309, 0.5517536358409095, 0.5466210439839457, 0.5337895638826466, 0.5474764759771023, 0.5303678357825512, 0.5380667237719478, 0.5483319079702588, 0.5526090679360415, 0.5474764760280899, 0.5440547477750313, 0.553464499929198, 0.5389221557141166, 0.5577416597165238, 0.5560307959596554, 0.5466210437035133, 0.5397775880386934, 0.550898203847753, 0.5645851157892454, 0.5637296838980643, 0.5526090678850538, 0.5500427718545964, 0.5585970915567171, 0.5526090677830784, 0.5397775879877056, 0.542343884018163, 0.538922155816092, 0.5431993157308871, 0.5440547479025006, 0.5397775877582609, 0.5389221559945491, 0.5431993159603318, 0.537211292008236, 0.5337895639846221, 0.5517536358409095, 0.5235243802197067, 0.5278015398030815, 0.552609067655609, 0.5346449957483339, 0.5500427719565719, 0.5414884519740187, 0.5449101797936817, 0.5406330198024052, 0.5389221560965245, 0.5474764759771023, 0.5491873396829828, 0.5483319080212465, 0.5389221558670798, 0.5560307959596554, 0.552609067655609, 0.5440547480044761, 0.5423438839671753, 0.5449101796662125, 0.5363558597856347, 0.5500427720075596, 0.5372112917278036, 0.5568862275704041, 0.5491873396319952, 0.5449101800486204, 0.5620188195293433, 0.5508982036183082, 0.5449101799466449, 0.5372112917150565, 0.5526090676046214, 0.5406330197514174, 0.5500427719565719, 0.5491873400144031, 0.5508982037967652, 0.5508982037967652, 0.5397775880386934, 0.5611633878166192, 0.5397775877072731, 0.5611633878676069, 0.5534644999801858, 0.5568862279018242, 0.5526090679360415, 0.532934131914984, 0.5594525238303061, 0.547476475824139, 0.5628742518029323, 0.5423438840691507, 0.5483319080212465, 0.5534644996487655, 0.5483319078682833, 0.5431993157308871, 0.5508982038987407, 0.553464499929198, 0.5449101797172001, 0.5543199318713669, 0.5423438836867428, 0.5517536358409095, 0.5500427719055841, 0.5628742517519446, 0.5423438839671753, 0.556030795679223, 0.5483319079702588, 0.5654405476804265, 0.5508982036183082, 0.5466210437545009, 0.532934132093441, 0.5534644998272226, 0.5620188195293433, 0.5508982039497284, 0.5440547480044761, 0.5337895641375853, 0.5346449960287664, 0.547476475824139, 0.5534644998782103, 0.5517536358409095, 0.5431993156798993, 0.5500427720075596, 0.5355004280219229, 0.5431993160113195, 0.547476475645682, 0.5457656117868382, 0.5355004277924782, 0.5483319079702588, 0.527801539905057, 0.558597091939125, 0.5397775877582609, 0.5312232680051524, 0.538066724103368, 0.5483319078682833, 0.5603079558234627, 0.5406330198533928, 0.5406330200318499, 0.538066724103368, 0.5500427720075596, 0.5568862275704041, 0.551753635942885, 0.5423438839671753, 0.5508982036183082, 0.5500427719055841, 0.5440547480554638, 0.5474764758751268, 0.5551753639155111, 0.5594525238303061, 0.5406330200318499, 0.5406330198788867, 0.5500427716251517, 0.5414884520250064, 0.5705731395118965, 0.5457656119398014, 0.5500427716251517, 0.5474764760280899, 0.5466210440349334, 0.5585970915567171, 0.5483319078172956, 0.5526090679870292, 0.5611633878676069, 0.5508982036183082, 0.5414884517955617, 0.5414884520759942, 0.5662959798775339, 0.5534644997762349, 0.5474764758751268, 0.557741659843993, 0.5491873397849583, 0.5423438837377305, 0.5414884516935863, 0.5346449961307418, 0.5500427716251517, 0.5372112921102115, 0.5397775876945262, 0.5543199318713669, 0.5449101799976326, 0.5483319078172956, 0.5406330200828376, 0.5491873398614399, 0.5431993157818747, 0.5500427719565719, 0.5363558599640917, 0.5389221560965245, 0.5491873396319952, 0.5508982037202836, 0.531223267903177, 0.5508982038987407, 0.5483319080212465, 0.5603079559254381, 0.5457656118888137, 0.55603079585768, 0.556886227952812, 0.5594525237283307, 0.5363558597856347, 0.5457656119398014, 0.5500427720075596, 0.542343884018163, 0.5526090678850538, 0.5645851158912208, 0.5483319079702588, 0.5500427720075596, 0.5568862276723795, 0.5628742516499692, 0.5585970918881373, 0.5508982039497284, 0.5526090677065968, 0.5543199319223546, 0.5355004280219229, 0.547476475645682, 0.5474764760280899, 0.5534644997762349, 0.5457656120417769, 0.5449101797172001, 0.5517536358918972, 0.5483319078682833, 0.5722840037276543, 0.5466210439839457, 0.5551753635840909, 0.5337895638826466, 0.5440547479534883, 0.5560307956282352, 0.5534644995977779, 0.536355859913104, 0.5320787001002845, 0.5474764759771023, 0.5680068437108838, 0.5526090679360415, 0.5474764757986452, 0.5568862276213917, 0.5474764757476575, 0.5337895638571528, 0.5431993156798993, 0.550898203847753, 0.5508982039497284, 0.5568862277998488, 0.5526090678850538, 0.5508982040007161, 0.5534644999801858, 0.5508982039497284, 0.5611633879185947, 0.5372112921102115, 0.5577416598949808, 0.5611633879185947, 0.5534644995977779, 0.5483319079702588, 0.5526090678850538, 0.5483319077663079, 0.5560307959596554, 0.5474764760280899, 0.537211292008236, 0.5500427720075596, 0.5491873399124276, 0.5380667237209601, 0.5457656117103566, 0.5431993159603318, 0.552609067655609, 0.5500427719055841, 0.5440547477750313, 0.539777588089681, 0.5474764759771023, 0.5491873396829828, 0.5491873396829828, 0.5363558601170548, 0.5449101796662125, 0.5543199315909344, 0.5355004277414904, 0.5483319076388385, 0.5491873400144031, 0.5491873396829828, 0.5346449961307418, 0.5286569721276583, 0.5534644995977779, 0.5466210439839457, 0.5491873397849583, 0.5526090676046214, 0.5534644995977779, 0.546621043932958, 0.5449101799976326, 0.5560307959596554, 0.5474764756329351, 0.5551753636860663, 0.5474764759261145, 0.5517536358918972, 0.5457656119398014, 0.5320787001002845, 0.5637296838470766, 0.5483319079192711, 0.5380667238994171, 0.5560307959596554, 0.5526090679360415, 0.5389221557651044, 0.5474764756966698, 0.5543199317693914, 0.5457656118888137, 0.5526090679870292, 0.5474764760280899, 0.5491873396829828, 0.5431993159603318, 0.5517536358918972, 0.56287425185392, 0.5423438839161875, 0.571428571505053, 0.5517536358409095, 0.5457656120417769, 0.5423438836867428, 0.5483319078682833, 0.5457656120417769, 0.5526090679360415, 0.5560307958066922, 0.5543199318713669, 0.5491873399634153, 0.5372112921102115, 0.5423438839161875, 0.5491873398614399, 0.5517536356624525, 0.5603079557214873, 0.5483319076898263, 0.5534644998782103, 0.5491873400144031, 0.5551753636860663, 0.5491873396319952, 0.5423438836739959, 0.5355004280729107, 0.5397775878092486, 0.5466210436397786, 0.5466210439839457, 0.5534644998782103, 0.5483319079702588, 0.5560307959086677, 0.5534644995977779, 0.5320787001002845, 0.5491873396319952, 0.5560307959596554, 0.5594525238303061, 0.5423438839671753, 0.5500427719565719, 0.5517536356624525, 0.5457656117103566, 0.5628742518029323, 0.545765611659369, 0.561163387663656, 0.5474764760280899, 0.5389221557651044, 0.5508982038987407, 0.5526090679360415, 0.5560307959086677, 0.5440547479025006, 0.5500427716251517, 0.5508982040007161, 0.547476475645682, 0.5526090676046214, 0.5534644998782103, 0.5406330199298744, 0.5688622757040404, 0.5466210440349334, 0.5337895641375853, 0.5474764757476575, 0.5440547480554638, 0.5440547477112967, 0.538922155816092, 0.5440547478005252, 0.5508982039497284, 0.5500427718036087, 0.5363558600660672, 0.5543199316419222, 0.5543199315909344, 0.5671514116412457, 0.558597091939125, 0.5414884520759942, 0.5355004280729107, 0.5611633875361868, 0.5551753639664988, 0.5560307959596554, 0.5474764756966698, 0.550898203847753, 0.5449101800486204, 0.5603079555940179, 0.5534644999801858, 0.5483319080212465, 0.5543199317693914, 0.5449101800486204, 0.5577416595635606, 0.527801540083514, 0.5431993157308871, 0.5389221560965245, 0.5585970916077049, 0.5449101799976326, 0.5457656120417769, 0.5474764759261145, 0.5431993160113195, 0.5363558601170548, 0.545765611659369, 0.5337895640865975, 0.5551753636350787, 0.5551753639155111, 0.5423438838142121, 0.5466210437035133, 0.5449101798956572, 0.5526090678850538, 0.5483319080212465, 0.5585970917351741, 0.5457656120417769, 0.5508982039497284, 0.5423438837377305, 0.5526090679870292, 0.5526090679360415, 0.5449101799466449, 0.5414884517955617, 0.5440547477240436, 0.5526090679870292, 0.55603079585768, 0.5440547477750313, 0.5577416597930053, 0.542343884018163, 0.5337895639336344, 0.5337895641375853, 0.5526090679360415, 0.5355004280219229, 0.5517536359938727, 0.553464499585031, 0.5628742515734876, 0.5500427719055841, 0.5543199319733423, 0.5491873397339706, 0.5508982038987407, 0.5466210438309825, 0.5671514118197027, 0.5389221559435614, 0.5406330199808622, 0.5620188195803311, 0.537211292008236, 0.5560307956282352, 0.5440547477240436, 0.5466210440349334, 0.5671514118706905, 0.5491873399634153, 0.558597091939125, 0.5397775879877056, 0.5449101796662125, 0.56287425185392, 0.5406330198788867, 0.5406330198024052, 0.5406330197004297, 0.5474764756966698, 0.5508982037967652, 0.5440547480554638, 0.5517536359938727, 0.5568862278508365, 0.5491873396829828, 0.5517536357134402, 0.5312232681581156, 0.5303678360119959, 0.5397775878092486, 0.5414884516935863, 0.5577416595635606, 0.5560307955772475, 0.5449101796662125, 0.5474764756966698, 0.5491873399124276, 0.5500427717271271, 0.5577416596145484, 0.5483319076898263, 0.5449101799976326, 0.534644996079754, 0.5491873399124276, 0.5457656117613444, 0.5440547480554638, 0.5508982036183082, 0.5500427717781149, 0.5517536358409095, 0.5389221559435614, 0.556886227952812, 0.558597091939125, 0.5440547477750313, 0.5406330199298744, 0.5329341318639963, 0.5483319080212465, 0.5526090677830784, 0.5483319079192711, 0.5568862277998488, 0.5500427718036087, 0.5389221557651044, 0.5449101797172001, 0.550898203847753, 0.5508982040007161, 0.5671514114882825, 0.5269461080903575, 0.5474764756966698, 0.5568862279018242, 0.5517536359938727, 0.557741659843993, 0.5363558600150794, 0.5500427720075596, 0.5474764759261145, 0.5577416597420176, 0.5611633875871744, 0.5355004279709352, 0.5457656119398014, 0.564585115661776, 0.5491873396319952, 0.5508982040007161, 0.552609067834066, 0.5500427718036087, 0.5431993156798993, 0.5431993159603318, 0.5431993160623072, 0.5355004280729107, 0.5346449961307418, 0.5312232681071279, 0.5457656119907891, 0.5534644999801858, 0.5585970915567171, 0.5397775879877056, 0.5483319080212465, 0.5645851157892454, 0.5337895641375853, 0.5491873396829828, 0.5603079559254381, 0.5517536358409095, 0.5620188197587881, 0.5637296838470766, 0.5534644998782103, 0.5414884520250064, 0.5483319080212465, 0.5517536356624525, 0.5457656119398014, 0.5517536359938727, 0.5474764759261145, 0.5577416595635606, 0.5440547477750313, 0.5372112920592237, 0.5594525235498736, 0.5449101799466449, 0.5423438837887182, 0.5389221559945491, 0.5474764759261145, 0.5320786998708397, 0.5397775877072731, 0.5431993157308871, 0.5534644998272226, 0.5551753636350787, 0.5534644997762349, 0.5346449957993216, 0.56287425185392, 0.5568862277233672, 0.557741659665536, 0.5526090679870292, 0.5577416598949808, 0.5337895640356098, 0.5449101799466449, 0.5560307959086677, 0.5611633875361868, 0.5440547479534883, 0.5534644998782103, 0.556886227952812, 0.5397775880386934, 0.5500427720075596, 0.5697177077481846, 0.5560307956282352, 0.550898203847753, 0.5543199315909344, 0.5355004280219229, 0.537211291829779, 0.5500427719055841, 0.5457656119398014, 0.552609067655609, 0.547476475645682, 0.5483319080212465, 0.5466210439839457, 0.5543199316419222, 0.5483319079192711, 0.5474764760280899, 0.5466210439839457, 0.5534644998272226, 0.5500427717271271, 0.5508982038987407, 0.5534644996487655, 0.5389221560965245, 0.5568862277998488, 0.546621043932958, 0.5517536355987178, 0.556886227952812, 0.5491873398104522, 0.5440547477240436, 0.5620188195293433, 0.5303678357825512, 0.5440547480044761, 0.5543199315909344, 0.5534644998272226, 0.551753635942885, 0.552609067834066, 0.5508982038987407, 0.5483319077408141, 0.5457656119907891, 0.5577416599459685, 0.5431993160113195, 0.550898203847753, 0.5491873397849583, 0.551753635942885, 0.536355859734647, 0.5440547479534883, 0.5449101800486204, 0.5363558600660672, 0.5517536356624525, 0.5551753638135357, 0.5534644995977779, 0.5543199318713669, 0.5440547480044761, 0.5466210437290071, 0.5508982036183082, 0.5337895640356098, 0.5457656119398014, 0.5568862279018242, 0.5491873396829828, 0.5457656120417769, 0.5508982038987407, 0.557741659843993, 0.5491873399124276, 0.5517536359938727, 0.5500427716761394, 0.545765611659369, 0.5449101799466449, 0.5543199319733423, 0.537211292008236, 0.55603079585768, 0.5526090679360415, 0.5389221557651044, 0.5577416596145484, 0.5568862276723795, 0.5534644997507411, 0.5628742519049077, 0.5543199316419222, 0.5483319076388385, 0.5491873400144031, 0.5440547480554638, 0.5466210438819703, 0.5568862277998488, 0.539777588089681, 0.5389221560965245, 0.5380667237209601, 0.5551753636350787, 0.5440547476730558, 0.5560307959596554, 0.5355004281238983, 0.5508982039497284, 0.5414884517955617, 0.5662959796225954, 0.5508982037967652, 0.5508982036183082, 0.5389221557013697, 0.5406330198024052, 0.5474764758751268, 0.5517536358918972, 0.550898203669296, 0.564585115508813, 0.5500427720075596, 0.5423438840691507, 0.5440547478515129, 0.5697177078501601, 0.5526090679870292, 0.5551753635840909, 0.557741659843993, 0.5508982037967652, 0.5440547476730558, 0.5714285714540653, 0.5543199318713669, 0.5551753639155111, 0.5414884519740187, 0.5355004279709352, 0.5449101799976326, 0.5431993159093441, 0.5628742515734876, 0.539777588089681, 0.5551753638135357, 0.5551753639664988, 0.5474764758751268, 0.56116338768915, 0.5534644999801858, 0.5466210438054887, 0.545765611659369, 0.5414884519740187, 0.536355859734647, 0.5491873400144031, 0.5466210440349334, 0.546621043932958, 0.5637296838470766, 0.5414884519740187, 0.5534644998782103, 0.5491873399634153, 0.5568862277998488, 0.56287425185392, 0.552609067655609, 0.5431993160113195, 0.5431993160113195, 0.5389221560455368, 0.5483319080212465, 0.5697177078501601, 0.552609067834066, 0.5483319080212465, 0.5628742518029323, 0.5406330197514174, 0.5577416598949808, 0.5500427719055841, 0.5585970915567171, 0.5491873399634153, 0.5560307957557045, 0.5688622755255833, 0.5423438836867428, 0.5491873399634153, 0.5474764759771023, 0.5474764757476575, 0.5543199319223546, 0.5577416596145484, 0.5568862279018242, 0.5483319078172956, 0.5414884519740187, 0.5414884520759942, 0.5560307955772475, 0.5543199316419222, 0.5705731397413412, 0.5389221560455368, 0.5603079556704995, 0.545765611837826, 0.5508982039497284, 0.5568862279018242, 0.5457656119907891, 0.5423438837887182, 0.5517536357134402, 0.5440547477240436, 0.5603079558234627, 0.5431993157308871, 0.5654405477314142, 0.5517536356624525, 0.545765611659369, 0.5440547480044761, 0.558597091939125, 0.5568862276978733, 0.5551753635840909, 0.553464499929198, 0.5534644996487655, 0.5551753639664988, 0.5560307955772475, 0.5560307959086677, 0.553464499929198, 0.5526090676046214, 0.5543199319223546, 0.5577416595635606, 0.5423438836739959, 0.5474764756966698, 0.5483319079192711, 0.5474764760280899, 0.5406330197004297, 0.5645851158402331, 0.5508982039497284, 0.5560307959596554, 0.5543199318203792, 0.5628742516244752, 0.5500427717271271, 0.5534644995977779, 0.5577416598949808, 0.5560307957047168, 0.5491873399634153, 0.5620188197078003, 0.5534644998782103, 0.5534644998782103, 0.5466210439839457, 0.5483319076898263, 0.5517536359938727, 0.5585970918371496, 0.5645851157892454, 0.542343884018163, 0.5483319076388385, 0.5483319076898263, 0.5637296835156564, 0.5637296838470766, 0.5491873399124276, 0.5577416597930053, 0.5457656117613444, 0.5543199316419222, 0.5543199316419222, 0.5543199319733423, 0.5654405478333897, 0.550898203847753, 0.5517536358918972, 0.5560307959596554, 0.5483319078682833, 0.5568862279018242, 0.5466210438819703, 0.55603079585768, 0.5654405478843774, 0.5474764756329351, 0.5543199319733423, 0.5337895640865975, 0.551753635942885, 0.557741659843993, 0.5543199319223546, 0.5440547478515129, 0.5355004277414904, 0.5474764758751268, 0.5483319080212465, 0.5637296837960889, 0.5500427718036087, 0.5491873399634153, 0.5449101799976326, 0.5577416599459685, 0.5611633876381622, 0.5440547480044761, 0.551753635942885, 0.5560307955772475, 0.5585970917351741, 0.5449101800486204, 0.5440547477240436, 0.5423438838651998, 0.5414884520250064, 0.5620188199117512, 0.5483319076898263, 0.5397775880386934, 0.5466210437035133, 0.5483319076898263, 0.5577416599459685, 0.5551753637115603, 0.5380667240523802, 0.5483319076388385, 0.5372112920592237, 0.5534644999801858, 0.5551753635840909, 0.5474764759771023, 0.5594525238303061, 0.5611633875361868, 0.5491873400144031, 0.5491873396829828, 0.5508982039497284, 0.5346449957483339, 0.5654405478333897, 0.5517536359938727, 0.5611633878166192, 0.550898203847753, 0.557741659665536, 0.5620188197587881, 0.5603079557724749, 0.5526090679360415, 0.5526090676046214, 0.5654405476294387, 0.5594525239322816, 0.5406330197004297, 0.5628742518029323, 0.5551753635840909, 0.5543199319223546, 0.55603079585768, 0.5500427720075596, 0.5406330200828376, 0.5414884518720433, 0.5688622758060158, 0.5517536357134402, 0.5585970917861619, 0.5397775880386934, 0.5705731398433166, 0.5440547480044761, 0.5508982039497284, 0.5577416597930053, 0.5560307959596554, 0.5517536359938727, 0.5500427720075596, 0.5431993158583563, 0.5491873399634153, 0.5714285714540653, 0.5483319076388385, 0.5526090676046214, 0.5500427719565719, 0.5560307955772475, 0.5603079556450057, 0.5637296838980643, 0.5491873400144031, 0.5500427717271271, 0.5603079558744504, 0.5389221559945491, 0.5449101799976326, 0.5380667240523802, 0.5431993159603318, 0.5483319077408141, 0.5688622757040404, 0.5714285715815346, 0.5671514117177273, 0.5662959797755585, 0.5620188195293433, 0.5560307959086677, 0.5483319080212465, 0.5585970917861619, 0.5500427716761394, 0.5431993157308871, 0.5628742519049077, 0.5551753638645234, 0.5466210437799948, 0.5568862275704041, 0.5397775879877056, 0.5568862278508365, 0.5500427719565719, 0.5543199317693914, 0.556886227952812, 0.5397775877582609, 0.5568862279018242, 0.5491873399634153, 0.547476475824139, 0.5491873396829828, 0.5543199319223546, 0.5457656119907891, 0.5577416599459685, 0.5483319079702588, 0.553464499929198, 0.564585115508813, 0.5431993157308871, 0.5414884519740187, 0.5500427719055841, 0.550898203669296, 0.5585970918371496, 0.5517536356114647, 0.5645851155470537, 0.5474764760280899, 0.5526090679870292, 0.5577416596910298, 0.5543199319733423, 0.5466210436525255, 0.5431993159603318, 0.5534644995977779, 0.557741659843993, 0.5543199319733423, 0.5594525238303061, 0.5585970918881373, 0.5440547479534883, 0.5560307955772475, 0.5603079559254381, 0.5611633875361868, 0.5534644998782103, 0.5508982040007161, 0.5449101799466449, 0.5551753638645234, 0.5637296835666441, 0.5662959797755585, 0.5568862276213917, 0.5491873400144031, 0.5517536356114647, 0.5508982037712714, 0.5474764760280899, 0.5466210437035133, 0.5500427716251517, 0.5423438837377305, 0.551753635942885, 0.5594525239322816, 0.5397775877072731, 0.5568862275576572, 0.5620188195803311, 0.542343884018163, 0.5466210436525255, 0.5508982037967652, 0.552609067834066, 0.5508982039497284, 0.5662959798775339, 0.5320787001512721, 0.5517536359938727, 0.5508982040007161, 0.5628742517519446, 0.5560307955772475, 0.5534644998782103, 0.5568862279018242, 0.5620188198607635, 0.5508982039497284, 0.5431993159093441, 0.5517536358409095, 0.5594525236518492, 0.546621043932958, 0.5568862279018242, 0.5500427720075596, 0.5346449961307418, 0.5645851158912208, 0.5508982039497284, 0.5406330198788867, 0.5406330198024052, 0.5585970915567171, 0.5637296836176319, 0.5654405478843774, 0.5628742515734876, 0.5534644995977779, 0.5645851155598006, 0.5406330200828376, 0.5431993157308871, 0.5551753638135357, 0.5449101799976326, 0.5474764759771023, 0.5594525238812939, 0.5389221557141166, 0.5680068437108838, 0.5594525237793184, 0.5483319077408141, 0.5474764759261145, 0.5705731398433166, 0.5620188198607635, 0.5585970918881373, 0.5645851158912208, 0.5491873399634153, 0.5603079557724749, 0.5406330199298744, 0.5526090677830784, 0.5440547480554638, 0.5517536357644279, 0.5526090679360415, 0.5431993156798993, 0.5568862277488611, 0.5654405476549327, 0.5534644998782103, 0.5466210437545009, 0.5543199319223546, 0.5500427719055841, 0.5543199319733423, 0.5543199319733423, 0.546621043932958, 0.5568862278508365, 0.5585970918881373, 0.5372112919572483, 0.545765611659369, 0.5517536358918972, 0.547476475645682, 0.551753635942885, 0.5372112920592237, 0.55603079585768, 0.5526090679870292, 0.5423438839161875, 0.5431993160113195, 0.5491873396319952, 0.5637296837960889, 0.5594525238303061, 0.5466210440349334, 0.5534644998272226, 0.5526090679360415, 0.5568862277488611, 0.5449101800486204, 0.5500427720075596, 0.5440547480554638, 0.5474764759261145, 0.5620188199117512, 0.557741659843993, 0.5611633878676069, 0.5603079557724749, 0.5474764756966698, 0.566295979495126, 0.5551753638645234, 0.5508982036183082, 0.557741659665536, 0.566295979495126, 0.5568862279018242, 0.5594525237793184, 0.5474764760280899, 0.566295979495126, 0.5620188195293433, 0.5483319079702588, 0.5466210439839457, 0.5568862279018242, 0.547476475824139, 0.5466210440349334, 0.5483319076388385, 0.5517536358918972, 0.5440547480554638, 0.5406330198788867, 0.5688622754745957, 0.5534644996487655, 0.5620188199117512, 0.557741659665536, 0.5457656117613444, 0.5551753639664988, 0.5551753635840909, 0.5372112921102115, 0.5466210439839457, 0.5628742519049077, 0.5466210437545009, 0.5551753639664988, 0.547476475645682, 0.5517536358918972, 0.5406330200828376, 0.5594525237793184, 0.5517536356114647, 0.5534644997762349, 0.5534644996997533, 0.5551753636350787, 0.5500427719055841, 0.5491873396319952, 0.5534644998272226, 0.5526090679870292, 0.5483319080212465, 0.5568862278508365, 0.5526090676811029, 0.551753635942885, 0.5688622758570036, 0.5517536358918972, 0.5508982036183082, 0.5603079558744504, 0.56287425185392, 0.553464499929198, 0.5551753638645234, 0.5466210440349334, 0.5508982038987407, 0.5543199319733423, 0.5577416599459685, 0.5483319077408141, 0.564585115496066, 0.5526090677830784, 0.5355004280729107, 0.5551753639155111, 0.5483319080212465, 0.5508982038987407, 0.5628742517519446, 0.5594525238303061, 0.557741659843993, 0.5508982037202836, 0.5568862275704041, 0.5380667238484294, 0.5491873396829828, 0.545765611659369, 0.5568862278508365, 0.550898203669296, 0.5500427717271271, 0.5449101796662125, 0.5483319077918017, 0.55603079585768, 0.5500427718545964, 0.5406330199808622, 0.5329341320424532, 0.5355004280219229, 0.5414884516935863, 0.5483319079702588, 0.5483319079192711, 0.5560307955772475, 0.557741659843993, 0.5483319078682833, 0.5611633875361868, 0.5534644996742595, 0.556886227952812, 0.5662959798775339, 0.5500427719565719, 0.5705731398433166, 0.5731394358227863, 0.5628742515097529, 0.5611633878166192, 0.5560307956282352, 0.5423438839161875, 0.5526090679360415, 0.5466210436525255, 0.5517536356114647, 0.5551753638645234, 0.5611633879185947, 0.5594525236518492, 0.5466210439839457, 0.5500427717781149, 0.5620188198607635, 0.5526090677065968, 0.5491873399124276, 0.5620188197078003, 0.5577416595635606, 0.5637296838470766, 0.5483319078172956, 0.553464499929198, 0.5414884520759942, 0.5594525236518492, 0.5526090679870292, 0.545765611659369, 0.5483319079702588, 0.5466210437035133, 0.5491873398104522, 0.5543199318713669, 0.5594525237793184, 0.5568862279018242, 0.5628742515224998, 0.5483319079192711, 0.5534644999801858, 0.5594525239322816, 0.566295979495126, 0.5466210438819703, 0.5414884520250064, 0.5731394358227863, 0.551753635942885, 0.5603079558744504, 0.5551753638645234, 0.5620188198607635, 0.5457656119907891, 0.5431993160623072, 0.5517536359938727, 0.5483319078682833, 0.5577416597930053, 0.5637296837451011, 0.5372112917278036, 0.5697177078501601, 0.5577416598949808, 0.5491873396319952, 0.558597091939125, 0.5560307959596554, 0.5611633878166192, 0.5568862275704041, 0.5457656117103566, 0.5543199319733423, 0.5466210437035133, 0.5551753638645234, 0.5466210440349334, 0.56287425185392, 0.5423438839671753, 0.5449101797172001, 0.5500427716251517, 0.5491873399124276, 0.5483319080212465, 0.5457656118888137, 0.5637296838980643, 0.5423438839161875, 0.5500427716251517, 0.5585970918881373, 0.539777588089681, 0.5449101799976326, 0.5637296838470766, 0.5594525238812939, 0.5620188198097757, 0.5697177078501601, 0.5500427719055841, 0.5603079557724749, 0.5474764756966698, 0.5568862279018242, 0.5397775880386934, 0.5440547480044761, 0.5517536357134402, 0.5628742519049077, 0.5423438840691507, 0.552609067655609, 0.538922155816092, 0.55603079585768, 0.5594525235371267, 0.5517536358409095, 0.5543199317184037, 0.5620188197587881, 0.5526090679360415, 0.5543199319733423, 0.5568862278508365, 0.556886227952812, 0.5346449960287664, 0.5517536359938727, 0.5466210438054887, 0.5517536356624525, 0.5577416597420176, 0.5637296838980643, 0.5491873398614399, 0.5508982039497284, 0.5517536358918972, 0.5534644999801858, 0.5560307959596554, 0.5568862279018242, 0.5603079555302832, 0.5534644998272226, 0.556886227952812, 0.5705731397923289, 0.5628742516244752, 0.5585970915567171, 0.5577416598949808, 0.5526090678850538, 0.5654405477314142, 0.5594525238303061, 0.5491873396829828, 0.5628742517009568, 0.5705731398433166, 0.5449101800486204, 0.553464499929198, 0.5372112920592237, 0.5654405478333897, 0.5449101799976326, 0.5577416598949808, 0.5346449957483339, 0.5508982038987407, 0.5508982039497284, 0.546621043932958, 0.5585970917351741, 0.5568862278508365, 0.5611633875361868, 0.5671514114882825, 0.5543199318203792, 0.5543199318203792, 0.5628742517519446, 0.5611633877656315, 0.5466210437545009, 0.5585970918881373, 0.5483319076388385, 0.5483319076898263, 0.552609067655609, 0.5466210437035133, 0.5508982036183082, 0.5671514114882825, 0.5594525239322816, 0.5697177074677522, 0.557741659843993, 0.5440547479025006, 0.5628742515224998, 0.5423438840691507, 0.5457656120417769, 0.5534644996487655, 0.5474764759261145, 0.5577416595635606, 0.5449101799466449, 0.5637296838980643, 0.5543199318203792, 0.5680068437618716, 0.5594525237793184, 0.5423438839161875, 0.5534644996487655, 0.5585970915567171, 0.5483319078682833, 0.5585970917861619, 0.5645851156362822, 0.5474764760280899, 0.5483319076898263, 0.5491873400144031, 0.5551753638135357, 0.5517536359938727, 0.5585970917861619, 0.5423438840691507, 0.5466210438054887, 0.5551753639155111, 0.5500427716251517, 0.5543199316419222, 0.5568862279018242, 0.5466210436525255, 0.5355004280729107, 0.5517536356624525, 0.553464499929198, 0.541488451923031, 0.5440547479025006, 0.5466210439839457, 0.5243798121108878, 0.5568862277233672, 0.5688622757550281, 0.5474764759771023, 0.5560307958066922, 0.5543199318713669, 0.553464499929198, 0.5466210439839457, 0.5603079556450057, 0.5508982037202836, 0.5637296835666441, 0.5534644997762349, 0.5645851157892454, 0.5551753638645234, 0.5517536357899218, 0.5526090676046214, 0.557741659843993, 0.5466210438309825, 0.5577416595635606, 0.5603079558234627, 0.5526090677065968, 0.5517536356624525, 0.5594525237793184, 0.5457656116466221, 0.5397775877582609, 0.5611633876381622, 0.5577416599459685, 0.5543199319223546, 0.558597091939125, 0.5543199315909344, 0.5560307956282352, 0.556886227952812, 0.5697177078501601, 0.5517536359938727, 0.5466210438819703, 0.5594525238812939, 0.5526090676046214, 0.5560307958066922, 0.56971770751874, 0.5526090679360415, 0.5603079559254381, 0.5526090676046214, 0.5551753638645234, 0.5637296835156564, 0.5603079556959933, 0.5423438839161875, 0.5714285715305468, 0.5620188198097757, 0.5457656119907891, 0.5372112919062606, 0.5543199318203792, 0.550898203847753, 0.5603079555302832, 0.5568862279018242, 0.5568862276213917, 0.5491873399124276, 0.5731394354403784, 0.5594525238812939, 0.5603079559254381, 0.5585970918881373, 0.5500427718545964, 0.5705731396393657, 0.5431993157308871, 0.5551753635840909, 0.5799828914366184, 0.5543199319733423, 0.5577416595635606, 0.5705731394609087, 0.5680068434814391, 0.5594525235498736, 0.5406330199298744, 0.551753635942885, 0.5594525236008614, 0.5594525238812939, 0.5491873399634153, 0.5543199318713669, 0.5491873398104522, 0.5543199318203792, 0.5449101799976326, 0.5457656120417769, 0.5611633879185947, 0.5551753639664988, 0.5551753638135357, 0.5466210440349334, 0.5414884516935863, 0.5628742519049077, 0.5577416597930053, 0.5594525237028368, 0.5620188199117512, 0.5543199319733423, 0.5508982040007161, 0.5337895638571528, 0.5380667238484294, 0.5346449961307418, 0.5628742516244752, 0.5320787001512721, 0.5551753637370541, 0.5543199316929098, 0.5431993159603318, 0.5585970915567171, 0.5568862275704041, 0.5637296838470766, 0.5457656119398014, 0.5346449957483339, 0.5662959797755585, 0.5697177077991724, 0.5508982038987407, 0.5508982039497284, 0.5474764759261145, 0.545765611837826, 0.5483319079192711, 0.5346449958503093, 0.5543199319223546, 0.5500427719565719, 0.5517536357899218, 0.5491873400144031, 0.5799828916660632, 0.5645851156107884, 0.55603079585768, 0.5594525237793184, 0.5568862277998488, 0.5585970918881373, 0.5414884517955617, 0.5457656119398014, 0.5662959798265462, 0.5671514118706905, 0.553464499929198, 0.5594525237793184, 0.5620188198097757, 0.5551753639155111, 0.5440547480044761, 0.5560307958066922, 0.5466210436525255, 0.5483319080212465, 0.5560307958066922, 0.5491873396319952, 0.5611633875361868, 0.5611633879185947, 0.564585115508813, 0.5620188195293433, 0.5680068434814391, 0.5483319079192711, 0.5585970918371496, 0.5551753639664988, 0.5483319076388385, 0.552609067655609, 0.552609067655609, 0.5603079555430303, 0.5534644997762349, 0.5414884520250064, 0.5431993157308871, 0.541488451923031, 0.5543199319733423, 0.546621043932958, 0.5594525236518492, 0.5543199319223546, 0.5594525238303061, 0.5628742518029323, 0.5645851156107884, 0.5585970917861619, 0.5543199318713669, 0.5662959798775339, 0.5603079558234627, 0.5423438836867428, 0.5526090677575844, 0.547476475645682, 0.5603079557724749, 0.5620188195293433, 0.5585970918371496, 0.5543199318713669, 0.5645851158912208, 0.5406330198024052, 0.5551753638135357, 0.5611633875871744, 0.5517536357134402, 0.5483319076388385, 0.5483319079702588, 0.5662959798775339, 0.5577416595635606, 0.5688622758060158, 0.5560307956282352, 0.564585115508813, 0.5440547480044761, 0.5534644995977779, 0.5585970916077049, 0.5534644999801858, 0.5585970916077049, 0.5526090679360415, 0.5500427716761394, 0.5500427720075596, 0.5508982038987407, 0.5406330200318499, 0.5414884520759942, 0.5628742515734876, 0.5671514114882825, 0.567151411768715, 0.5637296835156564, 0.5449101800486204, 0.5560307955772475, 0.5457656119398014, 0.5474764759261145, 0.5662959798265462, 0.5543199318203792, 0.5680068437618716, 0.5508982036183082, 0.5662959797245708, 0.5637296837960889, 0.5500427718545964, 0.5585970918881373, 0.5688622754745957, 0.557741659843993, 0.551753635942885, 0.5585970915567171, 0.5568862278508365, 0.5500427719055841, 0.5431993156798993, 0.5603079557724749, 0.5603079555940179, 0.5517536358918972, 0.5671514117177273, 0.5611633875871744, 0.5431993160113195, 0.5671514118197027, 0.5543199319223546, 0.5491873396319952, 0.5457656120417769, 0.5594525235498736, 0.5603079558744504, 0.5551753639155111, 0.5594525235498736, 0.5466210436525255, 0.5423438836867428, 0.5577416597930053, 0.5440547479534883, 0.5560307955772475, 0.5551753636350787, 0.5568862275704041, 0.5551753638135357, 0.5637296838980643, 0.5705731397923289, 0.5526090676046214, 0.5739948676629797, 0.5654405478843774, 0.5517536357134402, 0.5620188199117512, 0.5508982040007161, 0.5594525238303061, 0.5508982040007161, 0.5500427716761394, 0.56287425185392, 0.5500427719055841, 0.5645851158402331, 0.5594525239322816, 0.5551753636350787, 0.5491873397849583, 0.5483319080212465, 0.5517536358918972, 0.5654405475529573, 0.5526090677830784, 0.5603079555430303, 0.5628742518029323, 0.5577416598949808, 0.5628742515224998, 0.5483319077408141, 0.5662959798775339, 0.5517536357644279, 0.5662959798265462, 0.5483319079702588, 0.5594525238303061, 0.5543199318713669, 0.5645851155598006, 0.5628742516244752, 0.5577416598949808, 0.55603079585768, 0.550898203669296, 0.5662959798265462, 0.5594525238812939, 0.5585970917861619, 0.5637296837960889, 0.5620188198607635, 0.5431993156798993, 0.5500427719565719, 0.5560307955772475, 0.5363558598876101, 0.5645851157892454, 0.5603079557214873, 0.545765611659369, 0.5508982040007161, 0.5611633879185947, 0.5560307955772475, 0.5620188197587881, 0.558597091939125, 0.5637296838980643, 0.551753635942885, 0.5491873396319952, 0.5551753638645234, 0.5543199315909344, 0.5662959798265462, 0.5543199316929098, 0.5534644995977779, 0.5483319079702588, 0.5568862279018242, 0.5551753639664988, 0.5637296838470766, 0.5457656119398014, 0.5474764759771023, 0.5688622754745957, 0.5603079559254381, 0.5671514114882825, 0.5594525238303061, 0.5637296835666441, 0.5577416598949808, 0.545765611837826, 0.5603079557724749, 0.5705731398433166, 0.5568862279018242, 0.5620188199117512, 0.5611633878166192, 0.5423438836867428, 0.5551753635840909, 0.545765611659369, 0.5603079558234627, 0.5611633875361868, 0.5594525239322816, 0.5534644998272226, 0.5560307955772475, 0.5577416597420176, 0.5654405478843774, 0.5397775877072731, 0.5431993157818747, 0.5526090676046214, 0.57142857168351, 0.5560307959596554, 0.5603079559254381, 0.5560307959596554, 0.5637296838980643, 0.5560307959086677, 0.5680068437618716, 0.5560307956282352, 0.5526090677830784, 0.5534644996742595, 0.5680068437618716, 0.5611633878676069, 0.5568862276213917, 0.5543199319733423, 0.5543199315909344, 0.5474764759261145, 0.5508982037202836, 0.5705731397413412, 0.564585115508813, 0.5449101797681879, 0.552609067834066, 0.5620188196313187, 0.5551753638645234, 0.5431993160623072, 0.5611633876381622, 0.5449101800486204, 0.557741659843993, 0.5491873399124276, 0.5551753635840909, 0.5560307958066922, 0.5637296835156564, 0.5603079555430303, 0.5585970915567171, 0.5560307959596554, 0.5654405477824019, 0.5611633878166192, 0.5637296837451011, 0.5637296837451011, 0.5585970917861619, 0.5483319077408141, 0.5654405477824019, 0.5551753638135357, 0.541488451923031, 0.5534644996487655, 0.5500427718036087, 0.5543199319223546, 0.5662959795716076, 0.5611633878166192, 0.5483319078682833, 0.564585115508813, 0.5688622757040404, 0.5551753637370541, 0.5748502996561362, 0.5620188198607635, 0.5508982040007161, 0.5731394355933416, 0.5500427719055841, 0.5551753639155111, 0.5662959797755585, 0.56116338768915, 0.5568862276213917, 0.550898203669296, 0.5483319078682833, 0.5671514118706905, 0.5568862275704041, 0.5620188198607635, 0.5543199315909344, 0.5457656119907891, 0.5560307957047168, 0.5714285718364732, 0.5526090679360415, 0.5577416595635606, 0.564585115508813, 0.5466210439839457, 0.5508982038987407, 0.5534644997762349, 0.5568862279018242, 0.5508982040007161, 0.5645851158402331, 0.5585970918371496, 0.5577416598949808, 0.5517536358409095, 0.5543199319223546, 0.5603079558234627, 0.5491873399634153, 0.5594525238303061, 0.546621043932958, 0.56287425185392, 0.5611633878166192, 0.5757057317002805, 0.556886227952812, 0.5637296838470766, 0.5508982039497284, 0.5508982036055613, 0.5543199319223546, 0.5526090676046214, 0.5508982036183082, 0.5568862277998488, 0.5457656117103566, 0.5380667237209601, 0.5534644998782103, 0.5654405475019695, 0.5611633878166192, 0.5603079558744504, 0.5543199315909344, 0.5466210436525255, 0.569717707697197, 0.5628742518029323, 0.5645851155598006, 0.5440547479534883, 0.5466210440349334, 0.5491873396829828, 0.567151411768715, 0.5491873400144031, 0.5534644998782103, 0.5560307959086677, 0.552609067834066, 0.5645851157892454, 0.551753635942885, 0.5611633878166192, 0.5517536357899218, 0.5585970915567171, 0.5611633875361868, 0.5440547479025006, 0.5440547477750313, 0.5628742515224998, 0.5585970916586925, 0.5517536358918972, 0.5611633875361868, 0.5628742519049077, 0.5423438840691507, 0.5491873396319952, 0.5637296838980643, 0.5688622757550281, 0.5526090677065968, 0.5594525238812939, 0.55603079585768, 0.5543199315781875, 0.5372112920592237, 0.5483319076898263, 0.5474764759771023, 0.5431993157308871, 0.5551753635840909, 0.5628742518029323, 0.5585970918881373, 0.5662959798775339, 0.5560307958066922, 0.5526090678850538, 0.5526090676046214, 0.546621043932958, 0.5526090679870292, 0.5594525238303061, 0.5483319080212465, 0.5543199318713669, 0.5483319078682833, 0.5620188197587881, 0.5628742519049077, 0.5577416595635606, 0.5645851158912208, 0.5577416597930053, 0.5457656117103566, 0.5577416596145484, 0.5466210437035133, 0.5483319079702588, 0.5637296837960889, 0.56287425185392, 0.5483319076898263, 0.5457656120417769, 0.5483319079702588, 0.5603079557724749, 0.536355859734647, 0.5560307957557045, 0.5585970915567171, 0.5662959798775339, 0.5585970918371496, 0.5551753635840909, 0.5500427718036087, 0.5526090678850538, 0.5483319077408141, 0.5645851158402331, 0.551753635942885, 0.5714285715560408, 0.5611633875361868, 0.5500427719055841, 0.5637296835666441, 0.567151411768715, 0.5645851157382576, 0.5568862277998488, 0.5680068438128593, 0.5568862278508365, 0.5457656117613444, 0.5671514117177273, 0.55603079585768, 0.558597091939125, 0.5551753639155111, 0.5594525239322816, 0.5517536359938727, 0.5508982038987407, 0.5483319076898263, 0.545765611659369, 0.5491873396319952, 0.5543199316419222, 0.5577416596145484, 0.5603079556959933, 0.5551753639155111, 0.5534644997762349, 0.5517536358409095, 0.5585970918881373, 0.5620188198607635, 0.5568862279018242, 0.5526090679360415, 0.5474764757731514, 0.550898203847753, 0.5457656119907891, 0.5603079558234627, 0.56287425185392, 0.547476475645682, 0.5620188195803311, 0.56971770751874, 0.5543199319223546, 0.5526090679870292, 0.5697177077481846, 0.5517536358918972, 0.5645851158402331, 0.567151411768715, 0.5551753635840909, 0.5620188195293433, 0.5620188198607635, 0.5500427720075596, 0.5620188195293433, 0.5543199319223546, 0.546621043932958, 0.553464499929198, 0.5355004280219229, 0.5671514118706905, 0.5585970917861619, 0.5466210438819703, 0.5491873399634153, 0.5508982038987407, 0.5705731395628841, 0.5611633875871744, 0.5534644995977779, 0.5517536358409095, 0.558597091939125, 0.5491873400144031, 0.5491873397339706, 0.5671514118197027, 0.5628742517519446, 0.5654405475019695, 0.5397775880386934, 0.558597091939125, 0.5611633879185947, 0.5500427716251517, 0.5628742515224998, 0.5645851158402331, 0.5688622754745957, 0.5500427719055841, 0.5526090676046214, 0.5534644995977779, 0.5620188198097757, 0.5517536356114647, 0.5603079557214873, 0.5585970918371496, 0.56287425185392, 0.5671514115392703, 0.5620188199117512, 0.5688622758060158, 0.5543199315909344, 0.5534644998272226, 0.542343884018163, 0.5637296838980643, 0.55603079585768, 0.5543199319733423, 0.5594525235498736, 0.5457656120417769, 0.5474764759771023, 0.5594525239322816, 0.5680068434814391, 0.5654405475019695, 0.56458511568727, 0.5577416596145484, 0.5543199315909344, 0.5577416598949808, 0.566295979495126, 0.5466210437035133, 0.5568862275704041, 0.5585970918881373, 0.5697177074677522, 0.5500427720075596, 0.5714285715560408, 0.5449101799466449, 0.5474764760280899, 0.5543199319733423, 0.5534644998272226, 0.5714285714540653, 0.558597091939125, 0.5508982036183082, 0.5560307959596554, 0.5594525239322816, 0.5337895640865975, 0.5414884516935863, 0.5628742517519446, 0.5457656120417769, 0.5654405475019695, 0.56116338768915, 0.5671514115392703, 0.5603079555430303, 0.5662959798265462, 0.56287425185392, 0.5577416598949808, 0.5474764759261145, 0.5585970918881373, 0.5543199318713669, 0.5449101798446695, 0.5705731398433166, 0.5543199316929098, 0.5560307956282352, 0.5508982040007161, 0.5508982040007161, 0.5483319079192711, 0.5637296838470766, 0.5654405478333897, 0.5628742518029323, 0.5560307958066922, 0.5620188198097757, 0.5457656117103566, 0.5491873399634153, 0.5457656119398014, 0.5491873396829828, 0.5688622757550281, 0.5440547480554638, 0.5722840035491973, 0.5611633878166192, 0.57142857168351, 0.5714285717344978, 0.5585970915567171, 0.5568862276213917, 0.5491873398614399, 0.5534644995977779, 0.5543199317438976, 0.5620188199117512, 0.5508982040007161, 0.5534644996487655, 0.5423438839671753, 0.5654405478843774, 0.5568862277998488, 0.5500427719055841, 0.558597091939125, 0.5611633879185947, 0.5585970918881373, 0.556886227952812, 0.5534644995977779, 0.5594525237283307, 0.545765611659369, 0.5611633875361868, 0.5449101799466449, 0.5466210437545009, 0.56287425185392, 0.5611633878166192, 0.56287425185392, 0.5620188198097757, 0.5637296835156564, 0.5491873396319952, 0.5551753639664988, 0.5620188198607635, 0.5714285717854855, 0.5431993159093441, 0.5551753639664988, 0.551753635942885, 0.5680068435834146, 0.5483319076898263, 0.5714285717344978, 0.5611633879185947, 0.5628742519049077, 0.553464499585031, 0.5551753639155111, 0.5534644996487655, 0.5628742516499692, 0.5457656117103566, 0.5637296838980643, 0.5577416599459685, 0.5577416597930053, 0.5568862275704041, 0.558597091939125, 0.5611633878676069, 0.5491873400144031, 0.5508982037202836, 0.5645851158402331, 0.5500427719565719, 0.5483319076388385, 0.5474764758751268, 0.5620188198097757, 0.553464499585031, 0.5603079559254381, 0.5551753639664988, 0.5560307959596554, 0.5611633878166192, 0.5568862276213917, 0.5560307959086677, 0.5680068437618716, 0.5423438840691507, 0.5637296837451011, 0.5483319076388385, 0.5688622754745957, 0.5594525238303061, 0.5765611637954124, 0.5508982038987407, 0.5731394356698232, 0.5551753636860663, 0.5577416595635606, 0.5757057317512682, 0.5654405477314142, 0.556886227952812, 0.5483319079192711, 0.5474764759771023, 0.5603079555940179, 0.5508982039497284, 0.5577416597165238, 0.5628742515734876, 0.5637296836431257, 0.5594525236008614, 0.5662959798775339, 0.57142857168351, 0.5748502994266914, 0.5603079557724749, 0.5577416599459685, 0.5731394354403784, 0.5594525235498736, 0.5551753639664988, 0.5551753638135357, 0.5594525236008614, 0.5474764757476575, 0.5654405478843774, 0.557741659843993, 0.5560307956282352, 0.5517536356114647, 0.5363558600150794, 0.5705731397923289, 0.5500427720075596, 0.558597091939125, 0.5397775880386934, 0.569717707697197, 0.5585970917096803, 0.5551753638135357, 0.5577416598949808, 0.5568862275704041, 0.5543199319223546, 0.5714285717344978, 0.5620188196313187, 0.5543199315909344, 0.56287425185392, 0.5491873397339706, 0.5611633877656315, 0.5568862279018242, 0.564585115508813, 0.5543199317438976, 0.5526090679870292, 0.5585970918881373, 0.5526090679870292, 0.5457656120417769, 0.5500427719055841, 0.5543199319223546, 0.5585970915567171, 0.5483319079192711, 0.575705731419848, 0.5517536358918972, 0.5508982040007161, 0.558597091939125, 0.545765611659369, 0.5662959798265462, 0.5517536355987178, 0.558597091939125, 0.5551753636350787, 0.5517536358918972, 0.5355004277924782, 0.5568862279018242, 0.5449101796662125, 0.5440547480044761, 0.5585970915567171, 0.5705731394609087, 0.5654405476549327, 0.558597091939125, 0.5697177077991724, 0.5637296835666441, 0.5637296836686195, 0.5551753639664988, 0.5594525237793184, 0.5491873400144031, 0.5611633876381622, 0.5414884517445739, 0.5551753638645234, 0.5654405476039449, 0.5671514117177273, 0.5671514115902581, 0.5637296838470766, 0.5483319079702588, 0.5628742516499692, 0.5568862277998488, 0.5654405478843774, 0.5680068434814391, 0.5551753635840909, 0.5620188197587881, 0.5603079555940179, 0.5500427720075596, 0.5560307958066922, 0.5500427719055841, 0.5406330199808622, 0.5637296838470766, 0.5440547480554638, 0.5603079558744504, 0.5466210437035133, 0.5654405477314142, 0.5611633875234399, 0.5611633879185947, 0.5594525238812939, 0.5654405477314142, 0.551753635942885, 0.5603079558234627, 0.5620188198097757, 0.56971770751874, 0.56287425185392, 0.5722840034472219, 0.5662959795461138, 0.5637296835156564, 0.5577416598949808, 0.5680068434814391, 0.5893926436417729, 0.5611633878676069, 0.5620188198097757, 0.5491873398614399, 0.5500427716251517, 0.5603079559254381, 0.5517536359938727, 0.5543199316419222, 0.5526090678850538, 0.5585970918881373, 0.566295979673583, 0.547476475645682, 0.5500427717271271, 0.5620188198607635, 0.5577416595635606, 0.5560307955772475, 0.5440547479025006, 0.5662959798265462, 0.5688622758060158, 0.5585970916077049, 0.5449101799466449, 0.5585970918881373, 0.5611633877656315, 0.5517536357899218, 0.5560307959086677, 0.5517536356624525, 0.5491873398614399, 0.5466210438309825, 0.5620188199117512, 0.5620188195803311, 0.5662959795461138, 0.5526090679870292, 0.5551753639664988, 0.5508982039497284, 0.5688622757550281, 0.5577416599459685, 0.5620188195293433, 0.5526090676046214, 0.5722840034472219, 0.5560307959596554, 0.5577416597930053, 0.5568862278508365, 0.5611633877656315, 0.5543199316929098, 0.5551753638645234, 0.5508982040007161, 0.5671514116157519, 0.581693755703364, 0.5594525236518492, 0.5688622757550281, 0.5568862275704041, 0.5594525238812939, 0.5551753639155111, 0.5508982036183082, 0.5585970918881373, 0.5585970918881373, 0.5628742517519446, 0.5543199318713669, 0.5654405475019695, 0.5517536356624525, 0.5611633875871744, 0.5603079558744504, 0.5705731396903535, 0.5671514118197027, 0.5680068437108838, 0.564585115508813, 0.5628742516244752, 0.5526090679870292, 0.5577416598949808, 0.5483319079702588, 0.5594525238812939, 0.5466210439839457, 0.5645851158912208, 0.5799828914366184, 0.5594525237283307, 0.5637296838470766, 0.5594525236518492, 0.5551753638645234, 0.5628742517519446, 0.5671514114882825, 0.5594525236518492, 0.5662959797755585, 0.5594525238303061, 0.5585970918881373, 0.5585970918371496, 0.5731394356698232, 0.5491873399634153, 0.5560307959596554, 0.5491873396192483, 0.5560307959596554, 0.5568862277998488, 0.5645851157892454, 0.5526090676046214, 0.555175363571344, 0.5603079558234627, 0.5551753635840909, 0.5389221557141166, 0.564585115508813, 0.5688622758060158, 0.5406330199808622, 0.5526090677065968, 0.5551753639664988, 0.5526090677065968, 0.5637296835156564, 0.5680068435324268, 0.5543199318713669, 0.5534644998272226, 0.5534644998782103, 0.5466210440349334, 0.547476475645682, 0.5508982039497284, 0.5431993159603318, 0.5534644998272226, 0.5508982036183082, 0.5654405478333897, 0.5620188195803311, 0.5620188198607635, 0.5483319076388385, 0.5517536357899218, 0.5680068437618716, 0.5517536358409095, 0.5474764757476575, 0.5500427720075596, 0.5620188197587881, 0.5363558597856347, 0.5603079555940179, 0.5568862279018242, 0.5526090679870292, 0.5491873396829828, 0.5705731398433166, 0.5637296836686195, 0.550898203847753, 0.5526090678850538, 0.5440547479025006, 0.5620188195803311, 0.5603079558234627, 0.5534644998782103, 0.5431993159093441, 0.5594525238303061, 0.5637296838470766, 0.5654405478843774, 0.5551753637370541, 0.5431993160623072, 0.5577416599459685, 0.5568862277488611, 0.5526090678850538, 0.5551753638645234, 0.5577416599459685, 0.5637296837451011, 0.5577416595635606, 0.5568862278508365, 0.56287425185392, 0.5671514114882825, 0.567151411768715, 0.5517536356624525, 0.5526090676046214, 0.5603079558744504, 0.5312232681581156, 0.5568862278508365, 0.5474764758751268, 0.5654405478843774, 0.5526090678850538, 0.5645851157892454, 0.56458511568727, 0.5568862279018242, 0.5500427716761394, 0.5534644998782103, 0.5671514118197027, 0.5637296836176319, 0.5722840038296297, 0.5526090679360415, 0.5585970916586925, 0.5568862278508365, 0.5739948674845227, 0.5560307959086677, 0.5457656120417769, 0.5457656117103566, 0.539777588089681, 0.5500427719565719, 0.5611633878166192, 0.5603079559254381, 0.5662959798265462, 0.5611633878676069, 0.564585115508813, 0.5491873397339706, 0.5645851157892454, 0.5483319080212465, 0.5551753639664988, 0.5491873399634153, 0.5551753639664988, 0.5483319076898263, 0.5697177078501601, 0.5568862279018242, 0.5543199315781875, 0.5526090679360415, 0.5440547476730558, 0.5611633875361868, 0.5628742515097529, 0.558597091939125, 0.5534644998272226, 0.5603079556450057, 0.5526090676046214, 0.5406330200318499, 0.5611633875361868, 0.5722840035746911, 0.5543199319733423, 0.556886227952812, 0.5543199316419222, 0.5526090677575844, 0.5611633878676069, 0.5611633878166192, 0.5551753636350787, 0.551753635942885, 0.5697177078501601, 0.5568862275704041, 0.5637296838470766, 0.5603079559254381, 0.5560307956282352, 0.5585970918881373, 0.5594525239322816, 0.5406330199808622, 0.5526090678850538, 0.5645851158402331, 0.5705731395118965, 0.5491873398104522, 0.5483319078682833, 0.5508982037202836, 0.5534644998782103, 0.5508982038987407, 0.5568862275704041, 0.5560307956282352, 0.5637296835666441, 0.5603079557724749, 0.5483319076898263, 0.5654405478843774, 0.553464499929198, 0.5526090679870292, 0.5722840038296297, 0.5526090679870292, 0.5500427719055841, 0.5534644999801858, 0.5628742515224998, 0.5551753638645234, 0.5611633877146438, 0.5568862276213917, 0.5654405478333897, 0.5526090679870292, 0.5705731394609087, 0.5483319079702588, 0.5560307958066922, 0.5517536358918972, 0.5680068435324268, 0.5508982036183082, 0.545765611659369, 0.5491873399634153, 0.5603079557724749, 0.5577416598949808, 0.5671514118197027, 0.5611633876381622, 0.550898203669296, 0.5457656120417769, 0.5714285716325224, 0.5534644999801858, 0.5628742515224998, 0.5491873398614399, 0.5628742515734876, 0.5594525238303061, 0.56287425185392, 0.5543199315909344, 0.5491873398614399, 0.5714285715560408, 0.57142857168351, 0.5603079555940179, 0.5466210436525255, 0.5645851157382576, 0.5628742518029323, 0.5671514118197027, 0.5423438837377305, 0.55603079585768, 0.5739948677649551, 0.5517536357899218, 0.5680068437618716, 0.55603079585768, 0.5577416597420176, 0.5534644999801858, 0.5594525238812939, 0.5594525239322816, 0.5551753639155111, 0.5680068435324268, 0.5671514114882825, 0.5680068436598962, 0.5637296835156564, 0.5517536358409095, 0.5662959798775339, 0.552609067655609, 0.5397775877072731, 0.5603079558744504, 0.547476475645682, 0.5654405475529573, 0.5577416598949808, 0.5500427718545964, 0.5637296836176319, 0.5620188199117512, 0.5611633878676069, 0.5560307956282352, 0.5705731398433166, 0.5508982037202836, 0.5483319076388385, 0.5389221557141166, 0.550898203847753, 0.5628742515224998, 0.550898203847753, 0.5611633879185947, 0.5526090679360415, 0.5680068437108838, 0.5739948676629797, 0.5594525239322816, 0.558597091939125, 0.5662959798775339, 0.5688622758060158, 0.5722840038296297, 0.5508982037967652, 0.5611633878166192, 0.5637296835156564, 0.5585970915567171, 0.5406330197004297, 0.5611633877656315, 0.558597091939125, 0.5577416599459685, 0.5560307959086677, 0.5551753639664988, 0.5483319077408141, 0.5526090679360415, 0.5449101797172001, 0.5705731396393657, 0.553464499929198, 0.5534644997507411, 0.5611633875361868, 0.5645851157892454, 0.5714285716325224, 0.5526090679360415, 0.5611633878166192, 0.5474764760280899, 0.564585115508813, 0.5662959797245708, 0.5714285717854855, 0.5662959797755585, 0.5680068437618716, 0.5483319077918017, 0.5620188197078003, 0.5577416595635606, 0.5568862277998488, 0.5491873396829828, 0.5620188195803311, 0.5637296838470766, 0.553464499929198, 0.5637296838470766, 0.5508982038987407, 0.5508982036183082, 0.5355004281238983, 0.5534644996997533, 0.5603079559254381, 0.5688622756530527, 0.5603079558234627, 0.5551753639664988, 0.5628742516244752, 0.5791274597748821, 0.55603079585768, 0.5449101799466449, 0.5483319080212465, 0.5466210438819703, 0.5517536356879463, 0.5654405477314142, 0.5414884520759942, 0.5654405478333897, 0.5508982038987407, 0.5585970916077049, 0.5645851157892454, 0.5585970918881373, 0.5611633878676069, 0.5526090679360415, 0.5662959795461138, 0.5611633879185947, 0.5585970918371496, 0.5594525236518492, 0.5594525239322816, 0.5543199319223546, 0.5466210438309825, 0.5449101796662125, 0.5654405478333897, 0.5526090678850538, 0.5577416597420176, 0.5431993160623072, 0.5534644998782103, 0.5526090679360415, 0.5517536358409095, 0.5577416597930053, 0.5500427716251517, 0.5603079557214873, 0.5526090679870292, 0.5662959797755585, 0.5534644995977779, 0.5508982039497284, 0.5654405475019695, 0.5500427718545964, 0.5603079558744504, 0.5491873396829828, 0.5551753638645234, 0.5508982039497284, 0.5543199318713669, 0.5722840034472219, 0.5585970916077049, 0.5466210440349334, 0.5603079557214873, 0.5654405478333897, 0.5680068436598962, 0.5611633879185947, 0.5543199318713669, 0.5500427716251517, 0.5423438839671753, 0.5620188195293433, 0.5603079559254381, 0.5585970918371496, 0.5551753635840909, 0.537211292008236, 0.5508982038987407, 0.5594525236008614, 0.5603079557724749, 0.5363558600660672, 0.5585970915567171, 0.559452523677343, 0.5526090676046214, 0.5500427716251517, 0.5628742517009568, 0.5637296836431257, 0.5431993160113195, 0.5517536359938727, 0.5611633879185947, 0.5534644995977779, 0.5577416597930053, 0.5526090677830784, 0.5517536358918972, 0.5406330199808622, 0.5380667238229355, 0.5603079558234627, 0.5654405478333897, 0.5560307959086677, 0.5654405478843774, 0.5722840034982095, 0.5423438839671753, 0.5628742515224998, 0.5568862279018242, 0.5543199319733423, 0.558597091939125, 0.5577416597165238, 0.5585970918881373, 0.56971770751874, 0.5534644997762349, 0.5423438840691507, 0.5611633879185947, 0.5568862278508365, 0.5603079555940179, 0.5534644997762349, 0.5688622754745957, 0.5722840036256789, 0.5637296838470766, 0.5551753635840909, 0.5594525239322816, 0.5568862278508365, 0.557741659665536, 0.5722840036256789, 0.5662959798265462, 0.5551753636350787, 0.5517536358409095, 0.564585115508813, 0.5534644996487655, 0.5671514117177273, 0.5449101799976326, 0.5483319079702588, 0.5543199319223546, 0.558597091939125, 0.5611633878676069, 0.5654405477824019, 0.5423438836867428, 0.5508982036183082, 0.5594525235498736, 0.5722840038296297, 0.552609067655609, 0.5671514118197027, 0.5560307955772475, 0.5551753636860663, 0.5671514116157519, 0.5543199319733423, 0.5680068436344022, 0.5620188198607635, 0.5526090677065968, 0.5722840034472219, 0.5500427716251517, 0.5457656120417769, 0.5577416597420176, 0.5508982037202836, 0.5611633879185947, 0.5517536356114647, 0.5440547480554638, 0.5517536359938727, 0.5466210438819703, 0.569717707697197, 0.5662959797245708, 0.5628742515734876, 0.5611633878166192, 0.5594525239322816, 0.5508982038987407, 0.5466210437035133, 0.553464499929198, 0.5731394354403784, 0.5500427718545964, 0.5449101797172001, 0.558597091939125, 0.5714285718364732, 0.5739948674845227, 0.5491873398104522, 0.5620188198607635, 0.5551753639155111, 0.5534644996487655, 0.5534644995977779, 0.5577416595635606, 0.5568862279018242, 0.5483319077918017, 0.5594525238303061, 0.5483319080212465, 0.5620188199117512, 0.5526090679870292, 0.5320787001512721, 0.5671514116412457, 0.5491873400144031, 0.5603079555430303, 0.5680068438128593, 0.5560307959596554, 0.5603079559254381, 0.5551753639155111, 0.5423438836867428, 0.5585970918371496, 0.55603079585768, 0.5440547480554638, 0.5688622758570036, 0.5551753637115603, 0.5491873399634153, 0.5560307955772475, 0.557741659843993, 0.5560307955772475, 0.5423438839671753, 0.564585115508813, 0.5526090677065968, 0.5577416599459685, 0.5662959797755585, 0.5483319077408141, 0.5645851158912208, 0.5577416595635606, 0.5517536358918972, 0.5577416595635606, 0.5551753639155111, 0.5594525239322816, 0.552609067655609, 0.5466210438819703, 0.5543199316419222, 0.547476475645682, 0.5551753636860663, 0.5568862279018242, 0.5551753639155111, 0.5500427720075596, 0.5680068436598962, 0.571428571505053, 0.5449101799976326, 0.5449101800486204, 0.5603079558744504, 0.5543199319733423, 0.5603079559254381, 0.5594525236518492, 0.5637296836176319, 0.5534644998782103, 0.5568862279018242, 0.5637296836941134, 0.5628742518029323, 0.5680068436344022, 0.551753635942885, 0.5594525238812939, 0.5508982036183082, 0.5491873399634153, 0.5517536359938727, 0.5474764760280899, 0.5594525237283307, 0.5483319080212465, 0.5508982036183082, 0.5543199316419222, 0.5637296838470766, 0.5491873399124276, 0.5620188196313187, 0.5534644998272226, 0.5620188198607635, 0.5714285717344978, 0.552609067834066, 0.5585970918881373, 0.5508982037202836, 0.5671514116667395, 0.557741659843993, 0.5637296837960889, 0.5500427719565719, 0.5526090678850538, 0.5560307958066922, 0.5705731398433166, 0.5654405476039449, 0.5620188199117512, 0.5560307959596554, 0.5688622754745957, 0.5628742518029323, 0.5551753639664988, 0.5645851157892454, 0.5560307959086677, 0.5662959797755585, 0.5483319077918017, 0.5466210439839457, 0.5543199319223546, 0.5628742515224998, 0.5551753638135357, 0.5611633878676069, 0.5320786997688642, 0.5466210436525255, 0.5560307958066922, 0.5628742519049077, 0.55603079585768, 0.5440547479025006, 0.5611633876381622, 0.5585970918371496, 0.5500427717271271, 0.5457656120417769, 0.5414884520759942, 0.5431993160623072, 0.5449101798956572, 0.5594525239322816, 0.5671514118706905, 0.5431993159603318, 0.56287425185392, 0.5543199319733423, 0.5645851158912208, 0.5526090679870292, 0.5517536356624525, 0.5594525239322816, 0.5577416599459685, 0.5457656119398014, 0.5628742519049077, 0.5449101800486204, 0.56287425185392, 0.5560307959086677, 0.5654405474892226, 0.5568862277488611, 0.5697177077481846, 0.5560307959086677, 0.5637296838470766, 0.5705731394609087, 0.5483319079702588, 0.5483319079702588, 0.5508982040007161, 0.5594525239322816, 0.5594525238303061, 0.5620188198097757, 0.5603079558234627, 0.5628742518029323, 0.5551753635840909, 0.5637296837960889, 0.5611633878166192, 0.5611633875361868, 0.5491873399634153, 0.5645851158912208, 0.5526090677830784, 0.5680068436598962, 0.5637296838980643, 0.5414884517955617, 0.5688622755765711, 0.5611633878676069, 0.5466210439839457, 0.5526090677575844, 0.5603079555940179, 0.5500427719055841, 0.5534644998272226, 0.5577416597420176, 0.553464499929198, 0.5637296836941134, 0.5560307959086677, 0.5611633879185947, 0.5491873398614399, 0.551753635942885, 0.5688622754745957, 0.5637296835156564, 0.5568862278508365, 0.5637296836431257, 0.5500427717271271, 0.5500427716251517, 0.5560307959086677, 0.5594525236008614, 0.5577416595635606, 0.5551753639664988, 0.5628742518029323, 0.5628742516499692, 0.5560307956282352, 0.5594525235498736, 0.5508982039497284, 0.5739948677139673, 0.5551753638645234, 0.5491873398614399, 0.56287425185392, 0.5671514114882825, 0.5680068436598962, 0.5577416595508137, 0.552609067655609, 0.557741659843993, 0.5611633875871744, 0.566295979495126, 0.5594525239322816, 0.5671514114882825, 0.5603079558234627, 0.5594525238812939, 0.5508982039497284, 0.5500427718036087, 0.5560307959086677, 0.5603079558234627, 0.5551753635840909, 0.5543199319223546, 0.5611633878676069, 0.564585115508813, 0.5431993160623072, 0.5568862276978733, 0.547476475645682, 0.5560307958066922, 0.558597091939125, 0.5543199315909344, 0.5611633878676069, 0.5585970915567171, 0.55603079585768, 0.5671514118197027, 0.5603079556195117, 0.5543199318203792, 0.5645851156107884, 0.5568862275704041, 0.550898203669296, 0.5431993156798993, 0.564585115508813, 0.5534644995977779, 0.5355004277414904, 0.5551753636860663, 0.5671514114882825, 0.5568862275704041, 0.5551753639155111, 0.5620188195293433, 0.5594525238812939, 0.5534644996487655, 0.5517536356114647, 0.5551753638645234, 0.567151411768715, 0.5560307959596554, 0.5483319077408141, 0.5517536358409095, 0.5526090676046214, 0.5483319076898263, 0.5508982039497284, 0.5603079558744504, 0.5585970915567171, 0.5577416598949808, 0.5543199319223546, 0.5517536357134402, 0.556886227952812, 0.5543199318713669, 0.5560307957557045, 0.5551753638645234, 0.5543199319223546, 0.5714285718364732, 0.5500427720075596, 0.5551753639664988, 0.5568862278508365, 0.5620188195293433, 0.5466210440349334, 0.558597091939125, 0.5620188195293433, 0.5645851158912208, 0.5440547477750313, 0.5688622757040404, 0.56287425185392, 0.5457656117103566, 0.5594525239322816, 0.5645851158402331, 0.5568862275704041, 0.5534644996487655, 0.5585970918881373, 0.5508982040007161, 0.5500427716060313, 0.5500427716251517, 0.5568862277998488, 0.556886227952812, 0.5534644997507411, 0.5500427720075596, 0.5620188199117512, 0.5466210437035133, 0.5508982037712714, 0.5534644998272226, 0.5526090679870292, 0.5560307959086677, 0.5543199316929098, 0.557741659843993, 0.5688622754745957, 0.5526090676046214, 0.5491873399124276, 0.5637296837451011, 0.5757057315983051, 0.5568862277488611, 0.5355004277924782, 0.5585970917351741, 0.564585115508813, 0.545765611837826, 0.5534644998782103, 0.5500427718036087, 0.5543199317693914, 0.5620188195293433, 0.552609067655609, 0.5534644998272226, 0.5397775877072731, 0.5568862279018242, 0.5637296836431257, 0.5491873400144031, 0.5508982038987407, 0.5577416597930053, 0.5543199318713669, 0.5414884519740187, 0.5594525239322816, 0.5551753638645234, 0.5449101798956572, 0.5620188199117512, 0.5560307959086677, 0.5680068437618716, 0.5517536358409095, 0.5372112917278036, 0.5517536358918972, 0.5551753639664988, 0.5551753636860663, 0.5483319076898263, 0.5423438839161875, 0.5517536358918972, 0.5697177077481846, 0.5551753636860663, 0.5585970916077049, 0.5517536357134402, 0.5526090676046214, 0.5620188195803311, 0.5517536356114647, 0.5577416599459685, 0.5594525235498736, 0.56458511568727, 0.5517536356114647, 0.5526090679870292]\n"
     ]
    }
   ],
   "source": [
    "print(history.history['acc'])"
   ]
  },
  {
   "cell_type": "code",
   "execution_count": 20,
   "metadata": {},
   "outputs": [],
   "source": [
    "import sklearn.metrics as acc\n",
    "from sklearn.multiclass import OneVsRestClassifier\n",
    "from sklearn.svm import LinearSVC"
   ]
  },
  {
   "cell_type": "code",
   "execution_count": 17,
   "metadata": {},
   "outputs": [],
   "source": [
    "clf = OneVsRestClassifier(LinearSVC(random_state=0)).fit(X_train,y_train)"
   ]
  },
  {
   "cell_type": "code",
   "execution_count": 22,
   "metadata": {},
   "outputs": [
    {
     "data": {
      "text/plain": [
       "array([[0, 0, 0, 0, 0],\n",
       "       [0, 0, 1, 0, 0],\n",
       "       [0, 0, 0, 0, 0],\n",
       "       ...,\n",
       "       [0, 0, 0, 0, 0],\n",
       "       [0, 0, 0, 0, 1],\n",
       "       [0, 0, 0, 0, 0]])"
      ]
     },
     "execution_count": 22,
     "metadata": {},
     "output_type": "execute_result"
    }
   ],
   "source": [
    "prediction = clf.predict(X_test)\n",
    "prediction"
   ]
  },
  {
   "cell_type": "code",
   "execution_count": 21,
   "metadata": {},
   "outputs": [
    {
     "name": "stdout",
     "output_type": "stream",
     "text": [
      "accuracy: 0.07584830339321358\n"
     ]
    }
   ],
   "source": [
    "accuracy = acc.accuracy_score(y_test, prediction, normalize=True)\n",
    "print(\"accuracy: {}\".format(accuracy))"
   ]
  },
  {
   "cell_type": "code",
   "execution_count": 23,
   "metadata": {},
   "outputs": [
    {
     "data": {
      "text/plain": [
       "array([[0., 0., 1., 0., 0.],\n",
       "       [1., 0., 0., 0., 0.],\n",
       "       [1., 0., 0., 0., 0.],\n",
       "       ...,\n",
       "       [1., 0., 0., 0., 0.],\n",
       "       [0., 0., 1., 0., 0.],\n",
       "       [1., 0., 0., 0., 0.]], dtype=float32)"
      ]
     },
     "execution_count": 23,
     "metadata": {},
     "output_type": "execute_result"
    }
   ],
   "source": [
    "y_test"
   ]
  },
  {
   "cell_type": "code",
   "execution_count": 24,
   "metadata": {},
   "outputs": [],
   "source": [
    "from sklearn.multioutput import MultiOutputClassifier\n",
    "from sklearn.ensemble import RandomForestClassifier\n",
    "from sklearn.utils import shuffle"
   ]
  },
  {
   "cell_type": "code",
   "execution_count": 26,
   "metadata": {},
   "outputs": [],
   "source": [
    "forest = RandomForestClassifier(n_estimators=64, random_state=1)"
   ]
  },
  {
   "cell_type": "code",
   "execution_count": 27,
   "metadata": {},
   "outputs": [],
   "source": [
    "multi_target_forest = MultiOutputClassifier(forest, n_jobs=-1)"
   ]
  },
  {
   "cell_type": "code",
   "execution_count": 28,
   "metadata": {},
   "outputs": [],
   "source": [
    "mtf = multi_target_forest.fit(X_train, y_train)"
   ]
  },
  {
   "cell_type": "code",
   "execution_count": 29,
   "metadata": {},
   "outputs": [],
   "source": [
    "y_pred = mtf.predict(X_test)"
   ]
  },
  {
   "cell_type": "code",
   "execution_count": 32,
   "metadata": {},
   "outputs": [
    {
     "name": "stdout",
     "output_type": "stream",
     "text": [
      "accuracy: 0.07584830339321358\n"
     ]
    }
   ],
   "source": [
    "accuracy2 = acc.accuracy_score(y_test, y_pred, normalize=True)\n",
    "print(\"accuracy: {}\".format(accuracy))"
   ]
  },
  {
   "cell_type": "code",
   "execution_count": 34,
   "metadata": {},
   "outputs": [
    {
     "data": {
      "text/plain": [
       "'1.12.0'"
      ]
     },
     "execution_count": 34,
     "metadata": {},
     "output_type": "execute_result"
    }
   ],
   "source": [
    "import tensorflow as tf\n",
    "import tensorflow_hub as hub\n",
    "import numpy as np\n",
    "import re"
   ]
  },
  {
   "cell_type": "code",
   "execution_count": 100,
   "metadata": {},
   "outputs": [],
   "source": [
    "def dataset_prep_reg():\n",
    "    ''' Read data from a csv file and use keras preprocessing to create \n",
    "    data matrix with sequence of integers for each sentence padded with \n",
    "    zeros'''\n",
    "    tokenizer = Tokenizer()\n",
    "    # Read data from csv file\n",
    "    df = pd.read_csv(\"C:/Users/SODIQ-PC/Desktop/Capstone_1819/turk_data.csv\",sep=',')\n",
    "\n",
    "    # Extract the response column from data\n",
    "    data = df['turk_response_text']\n",
    "    label = np.array(df[['1','2','3']])\n",
    "    \n",
    "    y1 = label[:,0]\n",
    "    y2 = label[:,1]\n",
    "    y3 = label[:,2]\n",
    "    \n",
    "    # convert each sentence to a string and make all data into a list\n",
    "    corpus = [str(data[i]).lower() for i in range(len(data))]\n",
    "    \n",
    "    #tokenize the corpus removing punctuations and get unique vocabulary of of corpus\n",
    "    tokenizer.fit_on_texts(corpus)\n",
    "    \n",
    "    # split data into train and test set\n",
    "    x_train, x_test, y1_train, y1_test = train_test_split(corpus, y1, test_size=0.2, random_state=10)\n",
    "    \n",
    "    return x_train, x_test, y1_train, y1_test"
   ]
  },
  {
   "cell_type": "code",
   "execution_count": 103,
   "metadata": {},
   "outputs": [],
   "source": [
    "x_train, x_test, y1_train, y1_test = dataset_prep_reg()"
   ]
  },
  {
   "cell_type": "code",
   "execution_count": 112,
   "metadata": {},
   "outputs": [],
   "source": [
    "train_df = pd.DataFrame(columns = ['sentence', 'score'])\n",
    "train_df['sentence'] = x_train\n",
    "train_df['score'] = y1_train"
   ]
  },
  {
   "cell_type": "code",
   "execution_count": 113,
   "metadata": {},
   "outputs": [],
   "source": [
    "test_df = pd.DataFrame(columns = ['sentence', 'score'])\n",
    "test_df['sentence'] = x_test\n",
    "test_df['score'] = y1_test"
   ]
  },
  {
   "cell_type": "code",
   "execution_count": 115,
   "metadata": {},
   "outputs": [
    {
     "data": {
      "text/html": [
       "<div>\n",
       "<style scoped>\n",
       "    .dataframe tbody tr th:only-of-type {\n",
       "        vertical-align: middle;\n",
       "    }\n",
       "\n",
       "    .dataframe tbody tr th {\n",
       "        vertical-align: top;\n",
       "    }\n",
       "\n",
       "    .dataframe thead th {\n",
       "        text-align: right;\n",
       "    }\n",
       "</style>\n",
       "<table border=\"1\" class=\"dataframe\">\n",
       "  <thead>\n",
       "    <tr style=\"text-align: right;\">\n",
       "      <th></th>\n",
       "      <th>sentence</th>\n",
       "      <th>score</th>\n",
       "    </tr>\n",
       "  </thead>\n",
       "  <tbody>\n",
       "    <tr>\n",
       "      <th>0</th>\n",
       "      <td>the plane being delayed is no worry. until it ...</td>\n",
       "      <td>3</td>\n",
       "    </tr>\n",
       "    <tr>\n",
       "      <th>1</th>\n",
       "      <td>we are giving the locals what we have based on...</td>\n",
       "      <td>5</td>\n",
       "    </tr>\n",
       "    <tr>\n",
       "      <th>2</th>\n",
       "      <td>now that we have some privacy, can you tell me...</td>\n",
       "      <td>3</td>\n",
       "    </tr>\n",
       "    <tr>\n",
       "      <th>3</th>\n",
       "      <td>there are crates full of food, water, and hosp...</td>\n",
       "      <td>5</td>\n",
       "    </tr>\n",
       "    <tr>\n",
       "      <th>4</th>\n",
       "      <td>unfortunately, he was otherwise occupied. i wi...</td>\n",
       "      <td>1</td>\n",
       "    </tr>\n",
       "  </tbody>\n",
       "</table>\n",
       "</div>"
      ],
      "text/plain": [
       "                                            sentence  score\n",
       "0  the plane being delayed is no worry. until it ...      3\n",
       "1  we are giving the locals what we have based on...      5\n",
       "2  now that we have some privacy, can you tell me...      3\n",
       "3  there are crates full of food, water, and hosp...      5\n",
       "4  unfortunately, he was otherwise occupied. i wi...      1"
      ]
     },
     "execution_count": 115,
     "metadata": {},
     "output_type": "execute_result"
    }
   ],
   "source": [
    "train_df.head()"
   ]
  },
  {
   "cell_type": "code",
   "execution_count": 116,
   "metadata": {},
   "outputs": [
    {
     "data": {
      "text/html": [
       "<div>\n",
       "<style scoped>\n",
       "    .dataframe tbody tr th:only-of-type {\n",
       "        vertical-align: middle;\n",
       "    }\n",
       "\n",
       "    .dataframe tbody tr th {\n",
       "        vertical-align: top;\n",
       "    }\n",
       "\n",
       "    .dataframe thead th {\n",
       "        text-align: right;\n",
       "    }\n",
       "</style>\n",
       "<table border=\"1\" class=\"dataframe\">\n",
       "  <thead>\n",
       "    <tr style=\"text-align: right;\">\n",
       "      <th></th>\n",
       "      <th>sentence</th>\n",
       "      <th>score</th>\n",
       "    </tr>\n",
       "  </thead>\n",
       "  <tbody>\n",
       "    <tr>\n",
       "      <th>0</th>\n",
       "      <td>now that we're alone, why did you suggest sett...</td>\n",
       "      <td>3</td>\n",
       "    </tr>\n",
       "    <tr>\n",
       "      <th>1</th>\n",
       "      <td>i know you have men free, could you please all...</td>\n",
       "      <td>1</td>\n",
       "    </tr>\n",
       "    <tr>\n",
       "      <th>2</th>\n",
       "      <td>i have no more questions for now.</td>\n",
       "      <td>1</td>\n",
       "    </tr>\n",
       "    <tr>\n",
       "      <th>3</th>\n",
       "      <td>i'm not sure if it would be any help to you no...</td>\n",
       "      <td>1</td>\n",
       "    </tr>\n",
       "    <tr>\n",
       "      <th>4</th>\n",
       "      <td>we have the supplies needed, we just need a fe...</td>\n",
       "      <td>1</td>\n",
       "    </tr>\n",
       "  </tbody>\n",
       "</table>\n",
       "</div>"
      ],
      "text/plain": [
       "                                            sentence  score\n",
       "0  now that we're alone, why did you suggest sett...      3\n",
       "1  i know you have men free, could you please all...      1\n",
       "2                  i have no more questions for now.      1\n",
       "3  i'm not sure if it would be any help to you no...      1\n",
       "4  we have the supplies needed, we just need a fe...      1"
      ]
     },
     "execution_count": 116,
     "metadata": {},
     "output_type": "execute_result"
    }
   ],
   "source": [
    "test_df.head()"
   ]
  },
  {
   "cell_type": "code",
   "execution_count": 275,
   "metadata": {},
   "outputs": [
    {
     "data": {
      "text/plain": [
       "'for i, message_embedding in enumerate(np.array(message_embeddings).tolist()):\\n    \\n   print(\"sentence: {}\".format(x_train[i]))\\n    print(\"Embedding size: {}\".format(len(message_embedding)))\\n    message_embedding_snippet = \", \".join(\\n        (str(x) for x in message_embedding[:3]))\\n    print(\"Embedding: [{}, ...]\\n\".format(message_embedding_snippet))'"
      ]
     },
     "execution_count": 275,
     "metadata": {},
     "output_type": "execute_result"
    }
   ],
   "source": [
    "# Reduce logging output.\n",
    "tf.logging.set_verbosity(tf.logging.ERROR)\n",
    "\n",
    "with tf.Session() as session:\n",
    "    session.run([tf.global_variables_initializer(), tf.tables_initializer()])\n",
    "    #message_embeddings = session.run(m(x_train))\n",
    "    test_embeddings = session.run(m(x_test))"
   ]
  },
  {
   "cell_type": "code",
   "execution_count": 180,
   "metadata": {},
   "outputs": [],
   "source": [
    "# Download the module to temp folder\n",
    "m = hub.Module(\"https://tfhub.dev/google/nnlm-en-dim128/1\")\n",
    "\n",
    "embedded_text_feature_column = hub.text_embedding_column(\n",
    "    key=\"sentence\", \n",
    "    module_spec=\"https://tfhub.dev/google/nnlm-en-dim128/1\")"
   ]
  },
  {
   "cell_type": "code",
   "execution_count": 256,
   "metadata": {},
   "outputs": [],
   "source": [
    "x = np.array(message_embeddings)\n",
    "df_train = pd.DataFrame(columns=['embeddings', 'score'])\n",
    "df_train['embeddings'] = np.array(message_embeddings).tolist()\n",
    "df_train['score'] = y1_train"
   ]
  },
  {
   "cell_type": "code",
   "execution_count": 276,
   "metadata": {},
   "outputs": [],
   "source": [
    "test = np.array(test_embeddings)"
   ]
  },
  {
   "cell_type": "code",
   "execution_count": 268,
   "metadata": {},
   "outputs": [],
   "source": [
    "def baseline_reg_model(x):\n",
    "    ''' Create a baseline classification model '''\n",
    "    model = Sequential()\n",
    "    model.add(Dense(units=512, activation='relu', input_dim=x.shape[1]))\n",
    "    model.add(Dropout(0.5))\n",
    "    model.add(Dense(units=32, activation='relu'))\n",
    "    model.add(Dropout(0.5))\n",
    "    model.add(Dense(units=1))\n",
    "    \n",
    "    model.compile(loss='mse',optimizer='rmsprop',metrics=['mean_absolute_error'])\n",
    "    model_reg = model\n",
    "    return model_reg"
   ]
  },
  {
   "cell_type": "code",
   "execution_count": 271,
   "metadata": {},
   "outputs": [
    {
     "name": "stdout",
     "output_type": "stream",
     "text": [
      "_________________________________________________________________\n",
      "Layer (type)                 Output Shape              Param #   \n",
      "=================================================================\n",
      "dense_4 (Dense)              (None, 512)               66048     \n",
      "_________________________________________________________________\n",
      "dropout_3 (Dropout)          (None, 512)               0         \n",
      "_________________________________________________________________\n",
      "dense_5 (Dense)              (None, 32)                16416     \n",
      "_________________________________________________________________\n",
      "dropout_4 (Dropout)          (None, 32)                0         \n",
      "_________________________________________________________________\n",
      "dense_6 (Dense)              (None, 1)                 33        \n",
      "=================================================================\n",
      "Total params: 82,497\n",
      "Trainable params: 82,497\n",
      "Non-trainable params: 0\n",
      "_________________________________________________________________\n"
     ]
    }
   ],
   "source": [
    "model = baseline_reg_model(x)\n",
    "model.summary()"
   ]
  },
  {
   "cell_type": "code",
   "execution_count": 272,
   "metadata": {},
   "outputs": [
    {
     "name": "stderr",
     "output_type": "stream",
     "text": [
      "C:\\Users\\SODIQ-PC\\Miniconda3\\envs\\tensorflow\\lib\\site-packages\\keras\\callbacks.py:535: RuntimeWarning: Early stopping conditioned on metric `acc` which is not available. Available metrics are: loss,mean_absolute_error,val_mean_absolute_error,val_loss\n",
      "  (self.monitor, ','.join(list(logs.keys()))), RuntimeWarning\n"
     ]
    },
    {
     "name": "stdout",
     "output_type": "stream",
     "text": [
      "\n",
      "....................................................................................................\n",
      "....................................................................................................\n",
      "....................................................................................................\n",
      "....................................................................................................\n",
      "....................................................................................................\n",
      "....................................................................................................\n",
      "....................................................................................................\n",
      "....................................................................................................\n",
      "....................................................................................................\n",
      "....................................................................................................\n",
      "....................................................................................................\n",
      "....................................................................................................\n",
      "....................................................................................................\n",
      "....................................................................................................\n",
      "....................................................................................................\n",
      "....................................................................................................\n",
      "....................................................................................................\n",
      "....................................................................................................\n",
      "....................................................................................................\n",
      "....................................................................................................\n",
      "....................................................................................................\n",
      "....................................................................................................\n",
      "....................................................................................................\n",
      "....................................................................................................\n",
      "....................................................................................................\n",
      "....................................................................................................\n",
      "....................................................................................................\n",
      "....................................................................................................\n",
      "....................................................................................................\n",
      "....................................................................................................\n",
      "....................................................................................................\n",
      "....................................................................................................\n",
      "....................................................................................................\n",
      "....................................................................................................\n",
      "....................................................................................................\n",
      "....................................................................................................\n",
      "....................................................................................................\n",
      "....................................................................................................\n",
      "....................................................................................................\n",
      "....................................................................................................\n",
      "....................................................................................................\n",
      "....................................................................................................\n",
      "....................................................................................................\n",
      "....................................................................................................\n",
      "....................................................................................................\n",
      "....................................................................................................\n",
      "....................................................................................................\n",
      "....................................................................................................\n",
      "....................................................................................................\n",
      "...................................................................................................."
     ]
    }
   ],
   "source": [
    "# Display training progress by printing a single dot for each completed epoch\n",
    "class PrintDot(keras.callbacks.Callback):\n",
    "  def on_epoch_end(self, epoch, logs):\n",
    "    if epoch % 100 == 0: print('')\n",
    "    print('.', end='')\n",
    "\n",
    "EPOCHS = 5000\n",
    "\n",
    "# The patience parameter is the amount of epochs to check for improvement\n",
    "early_stop = keras.callbacks.EarlyStopping(monitor='acc', patience=20)\n",
    "\n",
    "# Store training stats\n",
    "history = model.fit(x, y1_train, epochs=EPOCHS,\n",
    "                    validation_split = 0.2,\n",
    "                    verbose=0, callbacks=[early_stop, PrintDot()])"
   ]
  },
  {
   "cell_type": "code",
   "execution_count": 285,
   "metadata": {},
   "outputs": [
    {
     "name": "stdout",
     "output_type": "stream",
     "text": [
      "dict_keys(['loss', 'mean_absolute_error', 'val_loss', 'val_mean_absolute_error'])\n"
     ]
    }
   ],
   "source": [
    "print(history.history.keys())"
   ]
  },
  {
   "cell_type": "code",
   "execution_count": 287,
   "metadata": {},
   "outputs": [
    {
     "data": {
      "text/plain": [
       "Text(0.5,1,'model loss')"
      ]
     },
     "execution_count": 287,
     "metadata": {},
     "output_type": "execute_result"
    },
    {
     "data": {
      "image/png": "[encoded data removed]",
      "text/plain": [
       "<Figure size 432x288 with 1 Axes>"
      ]
     },
     "metadata": {
      "needs_background": "light"
     },
     "output_type": "display_data"
    }
   ],
   "source": [
    "import matplotlib.pyplot as plt\n",
    "\n",
    "plt.plot(history.history['loss'])\n",
    "plt.plot(history.history['val_loss'])\n",
    "plt.title('model loss')"
   ]
  },
  {
   "cell_type": "code",
   "execution_count": 288,
   "metadata": {},
   "outputs": [],
   "source": [
    "y_pred = model.predict(test)"
   ]
  },
  {
   "cell_type": "code",
   "execution_count": null,
   "metadata": {},
   "outputs": [],
   "source": []
  },
  {
   "cell_type": "code",
   "execution_count": null,
   "metadata": {},
   "outputs": [],
   "source": []
  },
  {
   "cell_type": "code",
   "execution_count": null,
   "metadata": {},
   "outputs": [],
   "source": [
    "model.evaluate(test)"
   ]
  },
  {
   "cell_type": "code",
   "execution_count": 284,
   "metadata": {},
   "outputs": [
    {
     "ename": "NameError",
     "evalue": "name 'plot' is not defined",
     "output_type": "error",
     "traceback": [
      "\u001b[1;31m---------------------------------------------------------------------------\u001b[0m",
      "\u001b[1;31mNameError\u001b[0m                                 Traceback (most recent call last)",
      "\u001b[1;32m<ipython-input-284-9cd36854c85b>\u001b[0m in \u001b[0;36m<module>\u001b[1;34m()\u001b[0m\n\u001b[0;32m      1\u001b[0m \u001b[1;33m\u001b[0m\u001b[0m\n\u001b[1;32m----> 2\u001b[1;33m \u001b[0mplot\u001b[0m\u001b[1;33m(\u001b[0m\u001b[0mhistory\u001b[0m\u001b[1;33m,\u001b[0m \u001b[0mmetrics\u001b[0m \u001b[1;33m=\u001b[0m \u001b[1;34m\"mean_absolute_error\"\u001b[0m\u001b[1;33m,\u001b[0m \u001b[0msmooth\u001b[0m \u001b[1;33m=\u001b[0m \u001b[0mFALSE\u001b[0m\u001b[1;33m)\u001b[0m \u001b[1;33m+\u001b[0m \u001b[0mcoord_cartesian\u001b[0m\u001b[1;33m(\u001b[0m\u001b[0mylim\u001b[0m \u001b[1;33m=\u001b[0m \u001b[0mc\u001b[0m\u001b[1;33m(\u001b[0m\u001b[1;36m0\u001b[0m\u001b[1;33m,\u001b[0m \u001b[1;36m5\u001b[0m\u001b[1;33m)\u001b[0m\u001b[1;33m)\u001b[0m\u001b[1;33m\u001b[0m\u001b[0m\n\u001b[0m",
      "\u001b[1;31mNameError\u001b[0m: name 'plot' is not defined"
     ]
    }
   ],
   "source": [
    "plot(history, metrics = \"mean_absolute_error\", smooth = FALSE) + coord_cartesian(ylim = c(0, 5))"
   ]
  },
  {
   "cell_type": "code",
   "execution_count": 280,
   "metadata": {},
   "outputs": [
    {
     "ename": "KeyError",
     "evalue": "'mean_squared_error'",
     "output_type": "error",
     "traceback": [
      "\u001b[1;31m---------------------------------------------------------------------------\u001b[0m",
      "\u001b[1;31mKeyError\u001b[0m                                  Traceback (most recent call last)",
      "\u001b[1;32m<ipython-input-280-a8489d1127d4>\u001b[0m in \u001b[0;36m<module>\u001b[1;34m()\u001b[0m\n\u001b[1;32m----> 1\u001b[1;33m \u001b[0mplot_history\u001b[0m\u001b[1;33m(\u001b[0m\u001b[0mhistory\u001b[0m\u001b[1;33m)\u001b[0m\u001b[1;33m\u001b[0m\u001b[0m\n\u001b[0m",
      "\u001b[1;32m<ipython-input-279-d0f7f59a241e>\u001b[0m in \u001b[0;36mplot_history\u001b[1;34m(history)\u001b[0m\n\u001b[0;32m      6\u001b[0m   \u001b[0mplt\u001b[0m\u001b[1;33m.\u001b[0m\u001b[0mxlabel\u001b[0m\u001b[1;33m(\u001b[0m\u001b[1;34m'Epoch'\u001b[0m\u001b[1;33m)\u001b[0m\u001b[1;33m\u001b[0m\u001b[0m\n\u001b[0;32m      7\u001b[0m   \u001b[0mplt\u001b[0m\u001b[1;33m.\u001b[0m\u001b[0mylabel\u001b[0m\u001b[1;33m(\u001b[0m\u001b[1;34m'Accuracy'\u001b[0m\u001b[1;33m)\u001b[0m\u001b[1;33m\u001b[0m\u001b[0m\n\u001b[1;32m----> 8\u001b[1;33m   plt.plot(history.epoch, np.array(history.history['mean_squared_error']),\n\u001b[0m\u001b[0;32m      9\u001b[0m            label='Train Loss')\n\u001b[0;32m     10\u001b[0m   plt.plot(history.epoch, np.array(history.history['mean_squared_error']),\n",
      "\u001b[1;31mKeyError\u001b[0m: 'mean_squared_error'"
     ]
    },
    {
     "data": {
      "image/png": "[encoded data removed]",
      "text/plain": [
       "<Figure size 432x288 with 1 Axes>"
      ]
     },
     "metadata": {
      "needs_background": "light"
     },
     "output_type": "display_data"
    }
   ],
   "source": [
    "plot_history(history)"
   ]
  },
  {
   "cell_type": "code",
   "execution_count": null,
   "metadata": {},
   "outputs": [],
   "source": []
  },
  {
   "cell_type": "code",
   "execution_count": 198,
   "metadata": {},
   "outputs": [],
   "source": [
    "# Training input on the whole training set with no limit on training epochs.\n",
    "train_input_fn = tf.estimator.inputs.pandas_input_fn(\n",
    "    train_df, train_df[\"score\"], num_epochs=None, shuffle=True)\n",
    "\n",
    "# Prediction on the whole training set.\n",
    "predict_train_input_fn = tf.estimator.inputs.pandas_input_fn(\n",
    "    train_df, train_df[\"score\"], shuffle=False)\n",
    "\n",
    "# Prediction on the test set.\n",
    "predict_test_input_fn = tf.estimator.inputs.pandas_input_fn(\n",
    "    test_df, test_df[\"score\"], shuffle=False)"
   ]
  },
  {
   "cell_type": "code",
   "execution_count": null,
   "metadata": {},
   "outputs": [],
   "source": []
  },
  {
   "cell_type": "code",
   "execution_count": 206,
   "metadata": {},
   "outputs": [
    {
     "name": "stdout",
     "output_type": "stream",
     "text": [
      "INFO:tensorflow:Using default config.\n",
      "WARNING:tensorflow:Using temporary folder as model directory: C:\\Users\\SODIQ-PC\\AppData\\Local\\Temp\\tmprpygwpv1\n",
      "INFO:tensorflow:Using config: {'_task_type': 'worker', '_device_fn': None, '_save_summary_steps': 100, '_global_id_in_cluster': 0, '_task_id': 0, '_evaluation_master': '', '_protocol': None, '_keep_checkpoint_max': 5, '_experimental_distribute': None, '_keep_checkpoint_every_n_hours': 10000, '_save_checkpoints_secs': 600, '_tf_random_seed': None, '_session_config': allow_soft_placement: true\n",
      "graph_options {\n",
      "  rewrite_options {\n",
      "    meta_optimizer_iterations: ONE\n",
      "  }\n",
      "}\n",
      ", '_model_dir': 'C:\\\\Users\\\\SODIQ-PC\\\\AppData\\\\Local\\\\Temp\\\\tmprpygwpv1', '_train_distribute': None, '_num_worker_replicas': 1, '_eval_distribute': None, '_log_step_count_steps': 100, '_save_checkpoints_steps': None, '_service': None, '_is_chief': True, '_num_ps_replicas': 0, '_master': '', '_cluster_spec': <tensorflow.python.training.server_lib.ClusterSpec object at 0x0000019691D90D30>}\n"
     ]
    }
   ],
   "source": [
    "# Use DNNClassifier\n",
    "estimator = tf.estimator.DNNRegressor(\n",
    "    hidden_units=[1024, 128],\n",
    "    feature_columns=[embedded_text_feature_column],\n",
    "    optimizer=tf.train.AdagradOptimizer(learning_rate=0.003))"
   ]
  },
  {
   "cell_type": "code",
   "execution_count": 207,
   "metadata": {},
   "outputs": [
    {
     "name": "stdout",
     "output_type": "stream",
     "text": [
      "INFO:tensorflow:Calling model_fn.\n",
      "INFO:tensorflow:Saver not created because there are no variables in the graph to restore\n",
      "INFO:tensorflow:Saver not created because there are no variables in the graph to restore\n",
      "INFO:tensorflow:Done calling model_fn.\n",
      "INFO:tensorflow:Create CheckpointSaverHook.\n",
      "INFO:tensorflow:Graph was finalized.\n",
      "INFO:tensorflow:Running local_init_op.\n",
      "INFO:tensorflow:Done running local_init_op.\n",
      "INFO:tensorflow:Saving checkpoints for 0 into C:\\Users\\SODIQ-PC\\AppData\\Local\\Temp\\tmprpygwpv1\\model.ckpt.\n",
      "INFO:tensorflow:loss = 847.5375, step = 0\n",
      "INFO:tensorflow:global_step/sec: 135.774\n",
      "INFO:tensorflow:loss = 96.69075, step = 100 (0.739 sec)\n",
      "INFO:tensorflow:global_step/sec: 198.943\n",
      "INFO:tensorflow:loss = 43.42592, step = 200 (0.501 sec)\n",
      "INFO:tensorflow:global_step/sec: 200.937\n",
      "INFO:tensorflow:loss = 26.079952, step = 300 (0.499 sec)\n",
      "INFO:tensorflow:global_step/sec: 190.959\n",
      "INFO:tensorflow:loss = 24.749737, step = 400 (0.524 sec)\n",
      "INFO:tensorflow:global_step/sec: 201.34\n",
      "INFO:tensorflow:loss = 16.591375, step = 500 (0.497 sec)\n",
      "INFO:tensorflow:global_step/sec: 180.337\n",
      "INFO:tensorflow:loss = 11.5351, step = 600 (0.555 sec)\n",
      "INFO:tensorflow:global_step/sec: 195.073\n",
      "INFO:tensorflow:loss = 11.516457, step = 700 (0.513 sec)\n",
      "INFO:tensorflow:global_step/sec: 192.822\n",
      "INFO:tensorflow:loss = 10.385372, step = 800 (0.518 sec)\n",
      "INFO:tensorflow:global_step/sec: 200.534\n",
      "INFO:tensorflow:loss = 4.8197803, step = 900 (0.500 sec)\n",
      "INFO:tensorflow:global_step/sec: 200.937\n",
      "INFO:tensorflow:loss = 5.462202, step = 1000 (0.498 sec)\n",
      "INFO:tensorflow:global_step/sec: 195.453\n",
      "INFO:tensorflow:loss = 2.1586614, step = 1100 (0.512 sec)\n",
      "INFO:tensorflow:global_step/sec: 193.941\n",
      "INFO:tensorflow:loss = 2.1402926, step = 1200 (0.515 sec)\n",
      "INFO:tensorflow:global_step/sec: 188.472\n",
      "INFO:tensorflow:loss = 2.8165288, step = 1300 (0.533 sec)\n",
      "INFO:tensorflow:global_step/sec: 193.567\n",
      "INFO:tensorflow:loss = 4.2591834, step = 1400 (0.516 sec)\n",
      "INFO:tensorflow:global_step/sec: 191.35\n",
      "INFO:tensorflow:loss = 1.505706, step = 1500 (0.523 sec)\n",
      "INFO:tensorflow:global_step/sec: 197.766\n",
      "INFO:tensorflow:loss = 4.2859344, step = 1600 (0.506 sec)\n",
      "INFO:tensorflow:global_step/sec: 199.736\n",
      "INFO:tensorflow:loss = 0.65902007, step = 1700 (0.501 sec)\n",
      "INFO:tensorflow:global_step/sec: 183.64\n",
      "INFO:tensorflow:loss = 0.68741846, step = 1800 (0.546 sec)\n",
      "INFO:tensorflow:global_step/sec: 189.184\n",
      "INFO:tensorflow:loss = 0.44980073, step = 1900 (0.528 sec)\n",
      "INFO:tensorflow:global_step/sec: 202.152\n",
      "INFO:tensorflow:loss = 3.6838825, step = 2000 (0.495 sec)\n",
      "INFO:tensorflow:global_step/sec: 200.134\n",
      "INFO:tensorflow:loss = 0.40000135, step = 2100 (0.499 sec)\n",
      "INFO:tensorflow:global_step/sec: 194.295\n",
      "INFO:tensorflow:loss = 0.41718894, step = 2200 (0.516 sec)\n",
      "INFO:tensorflow:global_step/sec: 201.34\n",
      "INFO:tensorflow:loss = 0.25682074, step = 2300 (0.496 sec)\n",
      "INFO:tensorflow:global_step/sec: 185.337\n",
      "INFO:tensorflow:loss = 2.4052167, step = 2400 (0.541 sec)\n",
      "INFO:tensorflow:global_step/sec: 191.35\n",
      "INFO:tensorflow:loss = 0.1948767, step = 2500 (0.522 sec)\n",
      "INFO:tensorflow:global_step/sec: 196.603\n",
      "INFO:tensorflow:loss = 0.52661765, step = 2600 (0.509 sec)\n",
      "INFO:tensorflow:global_step/sec: 198.157\n",
      "INFO:tensorflow:loss = 0.16484818, step = 2700 (0.506 sec)\n",
      "INFO:tensorflow:global_step/sec: 193.566\n",
      "INFO:tensorflow:loss = 2.2428527, step = 2800 (0.517 sec)\n",
      "INFO:tensorflow:global_step/sec: 181.58\n",
      "INFO:tensorflow:loss = 0.16255054, step = 2900 (0.551 sec)\n",
      "INFO:tensorflow:global_step/sec: 192.083\n",
      "INFO:tensorflow:loss = 2.276137, step = 3000 (0.521 sec)\n",
      "INFO:tensorflow:global_step/sec: 193.726\n",
      "INFO:tensorflow:loss = 2.2850716, step = 3100 (0.516 sec)\n",
      "INFO:tensorflow:global_step/sec: 195.835\n",
      "INFO:tensorflow:loss = 3.0142622, step = 3200 (0.511 sec)\n",
      "INFO:tensorflow:global_step/sec: 192.083\n",
      "INFO:tensorflow:loss = 0.05940023, step = 3300 (0.520 sec)\n",
      "INFO:tensorflow:global_step/sec: 194.694\n",
      "INFO:tensorflow:loss = 0.04376002, step = 3400 (0.514 sec)\n",
      "INFO:tensorflow:global_step/sec: 191.35\n",
      "INFO:tensorflow:loss = 0.0631948, step = 3500 (0.524 sec)\n",
      "INFO:tensorflow:global_step/sec: 191.716\n",
      "INFO:tensorflow:loss = 2.296337, step = 3600 (0.522 sec)\n",
      "INFO:tensorflow:global_step/sec: 182.124\n",
      "INFO:tensorflow:loss = 0.08530816, step = 3700 (0.549 sec)\n",
      "INFO:tensorflow:global_step/sec: 190.26\n",
      "INFO:tensorflow:loss = 0.045061488, step = 3800 (0.526 sec)\n",
      "INFO:tensorflow:global_step/sec: 196.218\n",
      "INFO:tensorflow:loss = 1.920484, step = 3900 (0.510 sec)\n",
      "INFO:tensorflow:global_step/sec: 195.073\n",
      "INFO:tensorflow:loss = 2.8413754, step = 4000 (0.513 sec)\n",
      "INFO:tensorflow:global_step/sec: 198.549\n",
      "INFO:tensorflow:loss = 0.03549, step = 4100 (0.504 sec)\n",
      "INFO:tensorflow:global_step/sec: 191.35\n",
      "INFO:tensorflow:loss = 2.3767393, step = 4200 (0.523 sec)\n",
      "INFO:tensorflow:global_step/sec: 196.989\n",
      "INFO:tensorflow:loss = 0.40301627, step = 4300 (0.507 sec)\n",
      "INFO:tensorflow:global_step/sec: 189.541\n",
      "INFO:tensorflow:loss = 2.5498736, step = 4400 (0.529 sec)\n",
      "INFO:tensorflow:global_step/sec: 175.881\n",
      "INFO:tensorflow:loss = 0.011980075, step = 4500 (0.569 sec)\n",
      "INFO:tensorflow:global_step/sec: 192.083\n",
      "INFO:tensorflow:loss = 0.022576684, step = 4600 (0.520 sec)\n",
      "INFO:tensorflow:global_step/sec: 187.066\n",
      "INFO:tensorflow:loss = 5.893723, step = 4700 (0.535 sec)\n",
      "INFO:tensorflow:global_step/sec: 190.986\n",
      "INFO:tensorflow:loss = 0.015255619, step = 4800 (0.526 sec)\n",
      "INFO:tensorflow:global_step/sec: 186.717\n",
      "INFO:tensorflow:loss = 0.006552574, step = 4900 (0.535 sec)\n",
      "INFO:tensorflow:Saving checkpoints for 5000 into C:\\Users\\SODIQ-PC\\AppData\\Local\\Temp\\tmprpygwpv1\\model.ckpt.\n",
      "INFO:tensorflow:Loss for final step: 0.0056609046.\n"
     ]
    },
    {
     "data": {
      "text/plain": [
       "<tensorflow.python.estimator.canned.dnn.DNNRegressor at 0x19691d905f8>"
      ]
     },
     "execution_count": 207,
     "metadata": {},
     "output_type": "execute_result"
    }
   ],
   "source": [
    "# Training for 1,000 steps means 128,000 training examples with the default\n",
    "# batch size. This is roughly equivalent to 5 epochs since the training dataset\n",
    "# contains 25,000 examples.\n",
    "estimator.train(input_fn=train_input_fn, steps=5000)"
   ]
  },
  {
   "cell_type": "code",
   "execution_count": 209,
   "metadata": {},
   "outputs": [
    {
     "name": "stdout",
     "output_type": "stream",
     "text": [
      "INFO:tensorflow:Calling model_fn.\n",
      "INFO:tensorflow:Saver not created because there are no variables in the graph to restore\n",
      "INFO:tensorflow:Saver not created because there are no variables in the graph to restore\n",
      "INFO:tensorflow:Done calling model_fn.\n",
      "INFO:tensorflow:Starting evaluation at 2018-12-04-04:05:09\n",
      "INFO:tensorflow:Graph was finalized.\n",
      "INFO:tensorflow:Restoring parameters from C:\\Users\\SODIQ-PC\\AppData\\Local\\Temp\\tmprpygwpv1\\model.ckpt-5000\n",
      "INFO:tensorflow:Running local_init_op.\n",
      "INFO:tensorflow:Done running local_init_op.\n",
      "INFO:tensorflow:Finished evaluation at 2018-12-04-04:05:11\n",
      "INFO:tensorflow:Saving dict for global step 5000: average_loss = 0.005452241, global_step = 5000, label/mean = 2.3420658, loss = 0.66219944, prediction/mean = 2.3406034\n",
      "INFO:tensorflow:Saving 'checkpoint_path' summary for global step 5000: C:\\Users\\SODIQ-PC\\AppData\\Local\\Temp\\tmprpygwpv1\\model.ckpt-5000\n",
      "INFO:tensorflow:Calling model_fn.\n",
      "INFO:tensorflow:Saver not created because there are no variables in the graph to restore\n",
      "INFO:tensorflow:Saver not created because there are no variables in the graph to restore\n",
      "INFO:tensorflow:Done calling model_fn.\n",
      "INFO:tensorflow:Starting evaluation at 2018-12-04-04:05:11\n",
      "INFO:tensorflow:Graph was finalized.\n",
      "INFO:tensorflow:Restoring parameters from C:\\Users\\SODIQ-PC\\AppData\\Local\\Temp\\tmprpygwpv1\\model.ckpt-5000\n",
      "INFO:tensorflow:Running local_init_op.\n",
      "INFO:tensorflow:Done running local_init_op.\n",
      "INFO:tensorflow:Finished evaluation at 2018-12-04-04:05:13\n",
      "INFO:tensorflow:Saving dict for global step 5000: average_loss = 0.69001484, global_step = 5000, label/mean = 2.4131737, loss = 76.82165, prediction/mean = 2.4154775\n",
      "INFO:tensorflow:Saving 'checkpoint_path' summary for global step 5000: C:\\Users\\SODIQ-PC\\AppData\\Local\\Temp\\tmprpygwpv1\\model.ckpt-5000\n"
     ]
    }
   ],
   "source": [
    "train_eval_result = estimator.evaluate(input_fn=predict_train_input_fn)\n",
    "test_eval_result = estimator.evaluate(input_fn=predict_test_input_fn)\n",
    "predictions = estimator.predict(input_fn = predict_test_input_fn)"
   ]
  },
  {
   "cell_type": "code",
   "execution_count": 229,
   "metadata": {},
   "outputs": [
    {
     "ename": "KeyError",
     "evalue": "'mean_absolute_error'",
     "output_type": "error",
     "traceback": [
      "\u001b[1;31m---------------------------------------------------------------------------\u001b[0m",
      "\u001b[1;31mKeyError\u001b[0m                                  Traceback (most recent call last)",
      "\u001b[1;32m<ipython-input-229-21bad30e7fc5>\u001b[0m in \u001b[0;36m<module>\u001b[1;34m()\u001b[0m\n\u001b[1;32m----> 1\u001b[1;33m \u001b[0mprint\u001b[0m\u001b[1;33m(\u001b[0m\u001b[1;34m\"Training set accuracy: {mean_absolute_error}\"\u001b[0m\u001b[1;33m.\u001b[0m\u001b[0mformat\u001b[0m\u001b[1;33m(\u001b[0m\u001b[1;33m**\u001b[0m\u001b[0mtrain_eval_result\u001b[0m\u001b[1;33m)\u001b[0m\u001b[1;33m)\u001b[0m\u001b[1;33m\u001b[0m\u001b[0m\n\u001b[0m\u001b[0;32m      2\u001b[0m \u001b[0mprint\u001b[0m\u001b[1;33m(\u001b[0m\u001b[1;34m\"Test set accuracy: {mean_absolute_error}\"\u001b[0m\u001b[1;33m.\u001b[0m\u001b[0mformat\u001b[0m\u001b[1;33m(\u001b[0m\u001b[1;33m**\u001b[0m\u001b[0mtest_eval_result\u001b[0m\u001b[1;33m)\u001b[0m\u001b[1;33m)\u001b[0m\u001b[1;33m\u001b[0m\u001b[0m\n",
      "\u001b[1;31mKeyError\u001b[0m: 'mean_absolute_error'"
     ]
    }
   ],
   "source": [
    "print(\"Training set accuracy: {mean_absolute_error}\".format(**train_eval_result))\n",
    "print(\"Test set accuracy: {mean_absolute_error}\".format(**test_eval_result))"
   ]
  },
  {
   "cell_type": "code",
   "execution_count": 190,
   "metadata": {},
   "outputs": [
    {
     "ename": "AttributeError",
     "evalue": "'DNNRegressor' object has no attribute 'step'",
     "output_type": "error",
     "traceback": [
      "\u001b[1;31m---------------------------------------------------------------------------\u001b[0m",
      "\u001b[1;31mAttributeError\u001b[0m                            Traceback (most recent call last)",
      "\u001b[1;32m<ipython-input-190-a8489d1127d4>\u001b[0m in \u001b[0;36m<module>\u001b[1;34m()\u001b[0m\n\u001b[1;32m----> 1\u001b[1;33m \u001b[0mplot_history\u001b[0m\u001b[1;33m(\u001b[0m\u001b[0mhistory\u001b[0m\u001b[1;33m)\u001b[0m\u001b[1;33m\u001b[0m\u001b[0m\n\u001b[0m",
      "\u001b[1;32m<ipython-input-189-ca0e734b2c33>\u001b[0m in \u001b[0;36mplot_history\u001b[1;34m(history)\u001b[0m\n\u001b[0;32m      5\u001b[0m   \u001b[0mplt\u001b[0m\u001b[1;33m.\u001b[0m\u001b[0mxlabel\u001b[0m\u001b[1;33m(\u001b[0m\u001b[1;34m'Steps'\u001b[0m\u001b[1;33m)\u001b[0m\u001b[1;33m\u001b[0m\u001b[0m\n\u001b[0;32m      6\u001b[0m   \u001b[0mplt\u001b[0m\u001b[1;33m.\u001b[0m\u001b[0mylabel\u001b[0m\u001b[1;33m(\u001b[0m\u001b[1;34m'Average_loss'\u001b[0m\u001b[1;33m)\u001b[0m\u001b[1;33m\u001b[0m\u001b[0m\n\u001b[1;32m----> 7\u001b[1;33m   plt.plot(history.step, np.array(history.history['average_loss']),\n\u001b[0m\u001b[0;32m      8\u001b[0m            label='Train Loss')\n\u001b[0;32m      9\u001b[0m   plt.plot(history.step, np.array(history.history['average_loss']),\n",
      "\u001b[1;31mAttributeError\u001b[0m: 'DNNRegressor' object has no attribute 'step'"
     ]
    },
    {
     "data": {
      "image/png": "[encoded data removed]",
      "text/plain": [
       "<Figure size 432x288 with 1 Axes>"
      ]
     },
     "metadata": {
      "needs_background": "light"
     },
     "output_type": "display_data"
    }
   ],
   "source": []
  },
  {
   "cell_type": "code",
   "execution_count": null,
   "metadata": {},
   "outputs": [],
   "source": [
    "# Display training progress by printing a single dot for each completed epoch\n",
    "class PrintDot(keras.callbacks.Callback):\n",
    "  def on_epoch_end(self, epoch, logs):\n",
    "    if epoch % 100 == 0: print('')\n",
    "    print('.', end='')\n",
    "\n",
    "EPOCHS = 5000\n",
    "\n",
    "# The patience parameter is the amount of epochs to check for improvement\n",
    "early_stop = keras.callbacks.EarlyStopping(monitor='acc', patience=20)\n",
    "\n",
    "# Store training stats\n",
    "history = model.fit(X_train, y_train, epochs=EPOCHS,\n",
    "                    verbose=0, callbacks=[early_stop, PrintDot()])"
   ]
  }
 ],
 "metadata": {
  "kernelspec": {
   "display_name": "Python 3",
   "language": "python",
   "name": "python3"
  },
  "language_info": {
   "codemirror_mode": {
    "name": "ipython",
    "version": 3
   },
   "file_extension": ".py",
   "mimetype": "text/x-python",
   "name": "python",
   "nbconvert_exporter": "python",
   "pygments_lexer": "ipython3",
   "version": "3.5.6"
  }
 },
 "nbformat": 4,
 "nbformat_minor": 2
}
